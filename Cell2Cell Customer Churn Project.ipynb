{
 "cells": [
  {
   "cell_type": "markdown",
   "metadata": {},
   "source": [
    "# Telecom Customer Churn"
   ]
  },
  {
   "cell_type": "code",
   "execution_count": 59,
   "metadata": {},
   "outputs": [],
   "source": [
    "# imports and formatting\n",
    "\n",
    "import pandas as pd\n",
    "import numpy as np\n",
    "import operator\n",
    "\n",
    "from sklearn import svm, ensemble, linear_model, neighbors, naive_bayes, neural_network\n",
    "\n",
    "from sklearn.neighbors import KNeighborsClassifier\n",
    "from sklearn.linear_model import LogisticRegression\n",
    "from sklearn.model_selection import train_test_split\n",
    "from sklearn.metrics import precision_score, recall_score, precision_recall_curve,f1_score, fbeta_score\n",
    "from sklearn.metrics import confusion_matrix, roc_curve, roc_auc_score, classification_report\n",
    "from sklearn.preprocessing import StandardScaler\n",
    "from xgboost import XGBClassifier\n",
    "\n",
    "from imblearn.over_sampling import SMOTE, ADASYN\n",
    "\n",
    "import matplotlib.pyplot as plt\n",
    "import seaborn as sns\n",
    "\n",
    "plt.style.use('ggplot')\n",
    "%matplotlib inline\n",
    "np.set_printoptions(suppress=True)"
   ]
  },
  {
   "cell_type": "markdown",
   "metadata": {},
   "source": [
    "## Getting, Cleaning, and Standardizing the Data"
   ]
  },
  {
   "cell_type": "code",
   "execution_count": 62,
   "metadata": {},
   "outputs": [],
   "source": [
    "df = pd.read_csv('cell2cell-duke univeristy.csv')\n",
    "\n",
    "df = df.drop('churndep', axis = 1)\n",
    "df = df.dropna()"
   ]
  },
  {
   "cell_type": "code",
   "execution_count": 330,
   "metadata": {},
   "outputs": [
    {
     "data": {
      "text/plain": [
       "(69309, 73)"
      ]
     },
     "execution_count": 330,
     "metadata": {},
     "output_type": "execute_result"
    }
   ],
   "source": [
    "df.shape"
   ]
  },
  {
   "cell_type": "code",
   "execution_count": 108,
   "metadata": {},
   "outputs": [],
   "source": [
    "X = df.drop(['Unnamed: 0', 'X', 'customer', 'traintest', 'churn'], axis =1)\n",
    "y = df.churn"
   ]
  },
  {
   "cell_type": "code",
   "execution_count": 64,
   "metadata": {},
   "outputs": [],
   "source": [
    "X_tr, X_te, y_train, y_test= train_test_split(X,y, test_size=0.2, random_state=51, stratify = df.churn)"
   ]
  },
  {
   "cell_type": "code",
   "execution_count": 65,
   "metadata": {},
   "outputs": [
    {
     "data": {
      "text/plain": [
       "StandardScaler(copy=True, with_mean=True, with_std=True)"
      ]
     },
     "execution_count": 65,
     "metadata": {},
     "output_type": "execute_result"
    }
   ],
   "source": [
    "std = StandardScaler()\n",
    "std.fit(X_tr.values)"
   ]
  },
  {
   "cell_type": "code",
   "execution_count": null,
   "metadata": {},
   "outputs": [],
   "source": []
  },
  {
   "cell_type": "code",
   "execution_count": null,
   "metadata": {},
   "outputs": [],
   "source": []
  },
  {
   "cell_type": "code",
   "execution_count": 66,
   "metadata": {},
   "outputs": [],
   "source": [
    "X_train = std.transform(X_tr.values)\n",
    "\n",
    "X_test = std.transform(X_te.values)"
   ]
  },
  {
   "cell_type": "markdown",
   "metadata": {},
   "source": [
    "## Imbalanced Classes"
   ]
  },
  {
   "cell_type": "code",
   "execution_count": 10,
   "metadata": {},
   "outputs": [],
   "source": [
    "sm = SMOTE(random_state=42, ratio=1.0)\n",
    "X_train_res, y_train_res = sm.fit_sample(X_train, y_train)"
   ]
  },
  {
   "cell_type": "code",
   "execution_count": 67,
   "metadata": {},
   "outputs": [],
   "source": [
    "X_ada, y_ada = ADASYN(random_state = 42).fit_sample(X_train, y_train)"
   ]
  },
  {
   "cell_type": "code",
   "execution_count": null,
   "metadata": {},
   "outputs": [],
   "source": []
  },
  {
   "cell_type": "code",
   "execution_count": null,
   "metadata": {},
   "outputs": [],
   "source": []
  },
  {
   "cell_type": "code",
   "execution_count": null,
   "metadata": {},
   "outputs": [],
   "source": []
  },
  {
   "cell_type": "markdown",
   "metadata": {},
   "source": []
  },
  {
   "cell_type": "markdown",
   "metadata": {},
   "source": [
    "## A Few Models w/SMOTE"
   ]
  },
  {
   "cell_type": "code",
   "execution_count": 11,
   "metadata": {},
   "outputs": [
    {
     "name": "stdout",
     "output_type": "stream",
     "text": [
      "The score for kNN is\n",
      "Training:  79.34%\n",
      "Test set:  51.39%\n",
      "KNN confusion matrix: \n",
      "\n",
      " [[4872 4993]\n",
      " [1745 2252]]\n",
      "              precision    recall  f1-score   support\n",
      "\n",
      "           0       0.74      0.49      0.59      9865\n",
      "           1       0.31      0.56      0.40      3997\n",
      "\n",
      "   micro avg       0.51      0.51      0.51     13862\n",
      "   macro avg       0.52      0.53      0.50     13862\n",
      "weighted avg       0.61      0.51      0.54     13862\n",
      "\n"
     ]
    }
   ],
   "source": [
    "knn = KNeighborsClassifier(n_neighbors=5)\n",
    "neighbors_model = knn.fit(X_train_res, y_train_res)\n",
    "print(\"The score for kNN is\")\n",
    "print(\"Training: {:6.2f}%\".format(100*knn.score(X_train_res, y_train_res)))\n",
    "print(\"Test set: {:6.2f}%\".format(100*knn.score(X_test, y_test)))\n",
    "\n",
    "print(\"KNN confusion matrix: \\n\\n\", confusion_matrix(y_test, knn.predict(X_test)))\n",
    "print(classification_report(y_test, knn.predict(X_test)))"
   ]
  },
  {
   "cell_type": "code",
   "execution_count": 12,
   "metadata": {},
   "outputs": [
    {
     "name": "stderr",
     "output_type": "stream",
     "text": [
      "/anaconda3/lib/python3.7/site-packages/sklearn/linear_model/logistic.py:433: FutureWarning: Default solver will be changed to 'lbfgs' in 0.22. Specify a solver to silence this warning.\n",
      "  FutureWarning)\n"
     ]
    },
    {
     "name": "stdout",
     "output_type": "stream",
     "text": [
      "The score for logistic regression is\n",
      "Training:  59.24%\n",
      "Test set:  56.98%\n",
      "Logistic Regression confusion matrix: \n",
      "\n",
      " [[5487 4378]\n",
      " [1586 2411]]\n",
      "              precision    recall  f1-score   support\n",
      "\n",
      "           0       0.78      0.56      0.65      9865\n",
      "           1       0.36      0.60      0.45      3997\n",
      "\n",
      "   micro avg       0.57      0.57      0.57     13862\n",
      "   macro avg       0.57      0.58      0.55     13862\n",
      "weighted avg       0.65      0.57      0.59     13862\n",
      "\n"
     ]
    }
   ],
   "source": [
    "logit = LogisticRegression(C = 0.95)\n",
    "logit.fit(X_train_res, y_train_res)\n",
    "print(\"The score for logistic regression is\")\n",
    "print(\"Training: {:6.2f}%\".format(100*logit.score(X_train_res, y_train_res)))\n",
    "print(\"Test set: {:6.2f}%\".format(100*logit.score(X_test, y_test)))\n",
    "\n",
    "print(\"Logistic Regression confusion matrix: \\n\\n\", confusion_matrix(y_test, logit.predict(X_test)))\n",
    "\n",
    "\n",
    "print(classification_report(y_test, logit.predict(X_test)))"
   ]
  },
  {
   "cell_type": "code",
   "execution_count": 33,
   "metadata": {},
   "outputs": [
    {
     "data": {
      "text/plain": [
       "14.86024838095489"
      ]
     },
     "execution_count": 33,
     "metadata": {},
     "output_type": "execute_result"
    }
   ],
   "source": [
    "from sklearn.metrics import log_loss\n",
    "log_loss(y_test, logit.predict(X_test))"
   ]
  },
  {
   "cell_type": "code",
   "execution_count": 13,
   "metadata": {},
   "outputs": [
    {
     "name": "stdout",
     "output_type": "stream",
     "text": [
      "The score for XGBoost is\n",
      "Training:  78.02%\n",
      "Test set:  69.17%\n",
      "XBGC matrix: \n",
      "\n",
      " [[8710 1155]\n",
      " [3118  879]]\n",
      "              precision    recall  f1-score   support\n",
      "\n",
      "           0       0.74      0.88      0.80      9865\n",
      "           1       0.43      0.22      0.29      3997\n",
      "\n",
      "   micro avg       0.69      0.69      0.69     13862\n",
      "   macro avg       0.58      0.55      0.55     13862\n",
      "weighted avg       0.65      0.69      0.66     13862\n",
      "\n"
     ]
    }
   ],
   "source": [
    "clf = XGBClassifier()\n",
    "xg = clf.fit(X_train_res, y_train_res)\n",
    "print(\"The score for XGBoost is\")\n",
    "print(\"Training: {:6.2f}%\".format(100*clf.score(X_train_res, y_train_res)))\n",
    "print(\"Test set: {:6.2f}%\".format(100*clf.score(X_test, y_test)))\n",
    "\n",
    "print(\"XBGC matrix: \\n\\n\", confusion_matrix(y_test, clf.predict(X_test)))\n",
    "\n",
    "print(classification_report(y_test, clf.predict(X_test)))"
   ]
  },
  {
   "cell_type": "code",
   "execution_count": 14,
   "metadata": {},
   "outputs": [
    {
     "name": "stdout",
     "output_type": "stream",
     "text": [
      "The score for Random Forest is\n",
      "Training: 100.00%\n",
      "Test set:  69.15%\n",
      "Random Forest confusion matrix: \n",
      "\n",
      " [[8723 1142]\n",
      " [3134  863]]\n",
      "              precision    recall  f1-score   support\n",
      "\n",
      "           0       0.74      0.88      0.80      9865\n",
      "           1       0.43      0.22      0.29      3997\n",
      "\n",
      "   micro avg       0.69      0.69      0.69     13862\n",
      "   macro avg       0.58      0.55      0.55     13862\n",
      "weighted avg       0.65      0.69      0.65     13862\n",
      "\n"
     ]
    }
   ],
   "source": [
    "rf = ensemble.RandomForestClassifier(n_estimators=100)\n",
    "forest = rf.fit(X_train_res, y_train_res)\n",
    "print(\"The score for Random Forest is\")\n",
    "print(\"Training: {:6.2f}%\".format(100*rf.score(X_train_res, y_train_res)))\n",
    "print(\"Test set: {:6.2f}%\".format(100*rf.score(X_test, y_test)))\n",
    "\n",
    "print(\"Random Forest confusion matrix: \\n\\n\", confusion_matrix(y_test, rf.predict(X_test)))\n",
    "\n",
    "print(classification_report(y_test, rf.predict(X_test)))"
   ]
  },
  {
   "cell_type": "code",
   "execution_count": 15,
   "metadata": {},
   "outputs": [
    {
     "name": "stderr",
     "output_type": "stream",
     "text": [
      "/anaconda3/lib/python3.7/site-packages/sklearn/linear_model/logistic.py:433: FutureWarning: Default solver will be changed to 'lbfgs' in 0.22. Specify a solver to silence this warning.\n",
      "  FutureWarning)\n",
      "/anaconda3/lib/python3.7/site-packages/sklearn/neural_network/multilayer_perceptron.py:562: ConvergenceWarning: Stochastic Optimizer: Maximum iterations (200) reached and the optimization hasn't converged yet.\n",
      "  % self.max_iter, ConvergenceWarning)\n"
     ]
    }
   ],
   "source": [
    "classifiers = [LogisticRegression(C = 0.95), KNeighborsClassifier(n_neighbors=6), naive_bayes.GaussianNB(),\n",
    "               ensemble.RandomForestClassifier(n_estimators=100), neural_network.MLPClassifier(), XGBClassifier()]\n",
    "\n",
    "result_table = pd.DataFrame(columns=['classifiers', 'fpr','tpr','auc'])\n",
    "\n",
    "for cls in classifiers:\n",
    "    model = cls.fit(X_train_res, y_train_res)\n",
    "    yproba = model.predict_proba(X_test)[::,1]\n",
    "    \n",
    "    fpr, tpr, _ = roc_curve(y_test,  yproba)\n",
    "    auc = roc_auc_score(y_test, yproba)\n",
    "    \n",
    "    result_table = result_table.append({'classifiers':cls.__class__.__name__,\n",
    "                                        'fpr':fpr, \n",
    "                                        'tpr':tpr, \n",
    "                                        'auc':auc}, ignore_index=True)\n",
    "    \n",
    "result_table.set_index('classifiers', inplace=True)"
   ]
  },
  {
   "cell_type": "code",
   "execution_count": 16,
   "metadata": {},
   "outputs": [
    {
     "data": {
      "text/html": [
       "<style>.container { width:95% !important; }</style>"
      ],
      "text/plain": [
       "<IPython.core.display.HTML object>"
      ]
     },
     "metadata": {},
     "output_type": "display_data"
    }
   ],
   "source": [
    "from IPython.core.display import display, HTML\n",
    "display(HTML(\"<style>.container { width:95% !important; }</style>\"))"
   ]
  },
  {
   "cell_type": "code",
   "execution_count": 53,
   "metadata": {},
   "outputs": [
    {
     "data": {
      "image/png": "[encoded data removed]",
      "text/plain": [
       "<Figure size 432x288 with 1 Axes>"
      ]
     },
     "metadata": {
      "needs_background": "light"
     },
     "output_type": "display_data"
    }
   ],
   "source": [
    "\n",
    "for i in result_table.index:\n",
    "    plt.plot(result_table.loc[i]['fpr'], \n",
    "             result_table.loc[i]['tpr'], \n",
    "             label=\"{}, AUC={:.3f}\".format(i, result_table.loc[i]['auc']))\n",
    "\n",
    "    \n",
    "plt.plot([0,1], [0,1], color='orange', linestyle='--')\n",
    "\n",
    "plt.xticks(np.arange(0.0, 1.1, step=0.1))\n",
    "plt.xlabel(\"Flase Positive Rate\", fontsize=15)\n",
    "\n",
    "plt.yticks(np.arange(0.0, 1.1, step=0.1))\n",
    "plt.ylabel(\"True Positive Rate\", fontsize=15)\n",
    "\n",
    "plt.title('ROC Curve Analysis', fontweight='bold', fontsize=15)\n",
    "plt.legend(prop={'size':8}, loc='lower right')\n",
    "\n",
    "plt.show()"
   ]
  },
  {
   "cell_type": "markdown",
   "metadata": {},
   "source": [
    "## Feature Importances"
   ]
  },
  {
   "cell_type": "code",
   "execution_count": 18,
   "metadata": {},
   "outputs": [],
   "source": [
    "feature_importances = []\n",
    "for feature in zip(X.columns, rf.feature_importances_):\n",
    "    feature_importances.append(feature)\n",
    "    \n",
    "feature_importance_df = pd.DataFrame(feature_importances, columns = ['Features', 'Importance'])"
   ]
  },
  {
   "cell_type": "code",
   "execution_count": 19,
   "metadata": {},
   "outputs": [],
   "source": [
    "feature_importance = feature_importance_df.sort_values(['Importance'], ascending = False)"
   ]
  },
  {
   "cell_type": "code",
   "execution_count": 20,
   "metadata": {},
   "outputs": [
    {
     "data": {
      "text/html": [
       "<div>\n",
       "<style scoped>\n",
       "    .dataframe tbody tr th:only-of-type {\n",
       "        vertical-align: middle;\n",
       "    }\n",
       "\n",
       "    .dataframe tbody tr th {\n",
       "        vertical-align: top;\n",
       "    }\n",
       "\n",
       "    .dataframe thead th {\n",
       "        text-align: right;\n",
       "    }\n",
       "</style>\n",
       "<table border=\"1\" class=\"dataframe\">\n",
       "  <thead>\n",
       "    <tr style=\"text-align: right;\">\n",
       "      <th></th>\n",
       "      <th>index</th>\n",
       "      <th>Features</th>\n",
       "      <th>Importance</th>\n",
       "    </tr>\n",
       "  </thead>\n",
       "  <tbody>\n",
       "    <tr>\n",
       "      <th>0</th>\n",
       "      <td>21</td>\n",
       "      <td>months</td>\n",
       "      <td>0.056912</td>\n",
       "    </tr>\n",
       "    <tr>\n",
       "      <th>1</th>\n",
       "      <td>26</td>\n",
       "      <td>eqpdays</td>\n",
       "      <td>0.053342</td>\n",
       "    </tr>\n",
       "    <tr>\n",
       "      <th>2</th>\n",
       "      <td>6</td>\n",
       "      <td>changem</td>\n",
       "      <td>0.038387</td>\n",
       "    </tr>\n",
       "    <tr>\n",
       "      <th>3</th>\n",
       "      <td>1</td>\n",
       "      <td>mou</td>\n",
       "      <td>0.038312</td>\n",
       "    </tr>\n",
       "    <tr>\n",
       "      <th>4</th>\n",
       "      <td>3</td>\n",
       "      <td>directas</td>\n",
       "      <td>0.037868</td>\n",
       "    </tr>\n",
       "    <tr>\n",
       "      <th>5</th>\n",
       "      <td>2</td>\n",
       "      <td>recchrge</td>\n",
       "      <td>0.037057</td>\n",
       "    </tr>\n",
       "    <tr>\n",
       "      <th>6</th>\n",
       "      <td>0</td>\n",
       "      <td>revenue</td>\n",
       "      <td>0.034463</td>\n",
       "    </tr>\n",
       "    <tr>\n",
       "      <th>7</th>\n",
       "      <td>7</td>\n",
       "      <td>changer</td>\n",
       "      <td>0.033972</td>\n",
       "    </tr>\n",
       "    <tr>\n",
       "      <th>8</th>\n",
       "      <td>16</td>\n",
       "      <td>peakvce</td>\n",
       "      <td>0.032044</td>\n",
       "    </tr>\n",
       "    <tr>\n",
       "      <th>9</th>\n",
       "      <td>4</td>\n",
       "      <td>overage</td>\n",
       "      <td>0.031715</td>\n",
       "    </tr>\n",
       "    <tr>\n",
       "      <th>10</th>\n",
       "      <td>9</td>\n",
       "      <td>blckvce</td>\n",
       "      <td>0.031485</td>\n",
       "    </tr>\n",
       "    <tr>\n",
       "      <th>11</th>\n",
       "      <td>17</td>\n",
       "      <td>opeakvce</td>\n",
       "      <td>0.030622</td>\n",
       "    </tr>\n",
       "    <tr>\n",
       "      <th>12</th>\n",
       "      <td>13</td>\n",
       "      <td>mourec</td>\n",
       "      <td>0.030112</td>\n",
       "    </tr>\n",
       "    <tr>\n",
       "      <th>13</th>\n",
       "      <td>10</td>\n",
       "      <td>unansvce</td>\n",
       "      <td>0.029971</td>\n",
       "    </tr>\n",
       "    <tr>\n",
       "      <th>14</th>\n",
       "      <td>14</td>\n",
       "      <td>outcalls</td>\n",
       "      <td>0.029069</td>\n",
       "    </tr>\n",
       "    <tr>\n",
       "      <th>15</th>\n",
       "      <td>8</td>\n",
       "      <td>dropvce</td>\n",
       "      <td>0.028595</td>\n",
       "    </tr>\n",
       "    <tr>\n",
       "      <th>16</th>\n",
       "      <td>18</td>\n",
       "      <td>dropblk</td>\n",
       "      <td>0.027175</td>\n",
       "    </tr>\n",
       "    <tr>\n",
       "      <th>17</th>\n",
       "      <td>61</td>\n",
       "      <td>income</td>\n",
       "      <td>0.026812</td>\n",
       "    </tr>\n",
       "    <tr>\n",
       "      <th>18</th>\n",
       "      <td>5</td>\n",
       "      <td>roam</td>\n",
       "      <td>0.026166</td>\n",
       "    </tr>\n",
       "    <tr>\n",
       "      <th>19</th>\n",
       "      <td>15</td>\n",
       "      <td>incalls</td>\n",
       "      <td>0.025247</td>\n",
       "    </tr>\n",
       "    <tr>\n",
       "      <th>20</th>\n",
       "      <td>27</td>\n",
       "      <td>age1</td>\n",
       "      <td>0.024942</td>\n",
       "    </tr>\n",
       "    <tr>\n",
       "      <th>21</th>\n",
       "      <td>22</td>\n",
       "      <td>uniqsubs</td>\n",
       "      <td>0.024566</td>\n",
       "    </tr>\n",
       "    <tr>\n",
       "      <th>22</th>\n",
       "      <td>20</td>\n",
       "      <td>callwait</td>\n",
       "      <td>0.023240</td>\n",
       "    </tr>\n",
       "    <tr>\n",
       "      <th>23</th>\n",
       "      <td>12</td>\n",
       "      <td>threeway</td>\n",
       "      <td>0.021477</td>\n",
       "    </tr>\n",
       "    <tr>\n",
       "      <th>24</th>\n",
       "      <td>11</td>\n",
       "      <td>custcare</td>\n",
       "      <td>0.021429</td>\n",
       "    </tr>\n",
       "    <tr>\n",
       "      <th>25</th>\n",
       "      <td>28</td>\n",
       "      <td>age2</td>\n",
       "      <td>0.018835</td>\n",
       "    </tr>\n",
       "    <tr>\n",
       "      <th>26</th>\n",
       "      <td>64</td>\n",
       "      <td>setprc</td>\n",
       "      <td>0.016069</td>\n",
       "    </tr>\n",
       "    <tr>\n",
       "      <th>27</th>\n",
       "      <td>25</td>\n",
       "      <td>models</td>\n",
       "      <td>0.015092</td>\n",
       "    </tr>\n",
       "    <tr>\n",
       "      <th>28</th>\n",
       "      <td>24</td>\n",
       "      <td>phones</td>\n",
       "      <td>0.014630</td>\n",
       "    </tr>\n",
       "    <tr>\n",
       "      <th>29</th>\n",
       "      <td>23</td>\n",
       "      <td>actvsubs</td>\n",
       "      <td>0.012316</td>\n",
       "    </tr>\n",
       "    <tr>\n",
       "      <th>...</th>\n",
       "      <td>...</td>\n",
       "      <td>...</td>\n",
       "      <td>...</td>\n",
       "    </tr>\n",
       "    <tr>\n",
       "      <th>36</th>\n",
       "      <td>29</td>\n",
       "      <td>children</td>\n",
       "      <td>0.005702</td>\n",
       "    </tr>\n",
       "    <tr>\n",
       "      <th>37</th>\n",
       "      <td>63</td>\n",
       "      <td>setprcm</td>\n",
       "      <td>0.005529</td>\n",
       "    </tr>\n",
       "    <tr>\n",
       "      <th>38</th>\n",
       "      <td>34</td>\n",
       "      <td>prizmtwn</td>\n",
       "      <td>0.004975</td>\n",
       "    </tr>\n",
       "    <tr>\n",
       "      <th>39</th>\n",
       "      <td>53</td>\n",
       "      <td>pcown</td>\n",
       "      <td>0.004800</td>\n",
       "    </tr>\n",
       "    <tr>\n",
       "      <th>40</th>\n",
       "      <td>49</td>\n",
       "      <td>mailord</td>\n",
       "      <td>0.004749</td>\n",
       "    </tr>\n",
       "    <tr>\n",
       "      <th>41</th>\n",
       "      <td>58</td>\n",
       "      <td>newcelln</td>\n",
       "      <td>0.004747</td>\n",
       "    </tr>\n",
       "    <tr>\n",
       "      <th>42</th>\n",
       "      <td>50</td>\n",
       "      <td>mailres</td>\n",
       "      <td>0.004710</td>\n",
       "    </tr>\n",
       "    <tr>\n",
       "      <th>43</th>\n",
       "      <td>37</td>\n",
       "      <td>truck</td>\n",
       "      <td>0.004548</td>\n",
       "    </tr>\n",
       "    <tr>\n",
       "      <th>44</th>\n",
       "      <td>36</td>\n",
       "      <td>webcap</td>\n",
       "      <td>0.004386</td>\n",
       "    </tr>\n",
       "    <tr>\n",
       "      <th>45</th>\n",
       "      <td>46</td>\n",
       "      <td>ownrent</td>\n",
       "      <td>0.004364</td>\n",
       "    </tr>\n",
       "    <tr>\n",
       "      <th>46</th>\n",
       "      <td>39</td>\n",
       "      <td>occprof</td>\n",
       "      <td>0.004327</td>\n",
       "    </tr>\n",
       "    <tr>\n",
       "      <th>47</th>\n",
       "      <td>30</td>\n",
       "      <td>credita</td>\n",
       "      <td>0.004278</td>\n",
       "    </tr>\n",
       "    <tr>\n",
       "      <th>48</th>\n",
       "      <td>54</td>\n",
       "      <td>creditcd</td>\n",
       "      <td>0.004216</td>\n",
       "    </tr>\n",
       "    <tr>\n",
       "      <th>49</th>\n",
       "      <td>60</td>\n",
       "      <td>incmiss</td>\n",
       "      <td>0.002962</td>\n",
       "    </tr>\n",
       "    <tr>\n",
       "      <th>50</th>\n",
       "      <td>38</td>\n",
       "      <td>rv</td>\n",
       "      <td>0.002739</td>\n",
       "    </tr>\n",
       "    <tr>\n",
       "      <th>51</th>\n",
       "      <td>59</td>\n",
       "      <td>refer</td>\n",
       "      <td>0.002490</td>\n",
       "    </tr>\n",
       "    <tr>\n",
       "      <th>52</th>\n",
       "      <td>65</td>\n",
       "      <td>retcall</td>\n",
       "      <td>0.002349</td>\n",
       "    </tr>\n",
       "    <tr>\n",
       "      <th>53</th>\n",
       "      <td>52</td>\n",
       "      <td>travel</td>\n",
       "      <td>0.002309</td>\n",
       "    </tr>\n",
       "    <tr>\n",
       "      <th>54</th>\n",
       "      <td>32</td>\n",
       "      <td>prizmrur</td>\n",
       "      <td>0.002272</td>\n",
       "    </tr>\n",
       "    <tr>\n",
       "      <th>55</th>\n",
       "      <td>55</td>\n",
       "      <td>retcalls</td>\n",
       "      <td>0.002218</td>\n",
       "    </tr>\n",
       "    <tr>\n",
       "      <th>56</th>\n",
       "      <td>41</td>\n",
       "      <td>occcrft</td>\n",
       "      <td>0.001517</td>\n",
       "    </tr>\n",
       "    <tr>\n",
       "      <th>57</th>\n",
       "      <td>40</td>\n",
       "      <td>occcler</td>\n",
       "      <td>0.001228</td>\n",
       "    </tr>\n",
       "    <tr>\n",
       "      <th>58</th>\n",
       "      <td>45</td>\n",
       "      <td>occself</td>\n",
       "      <td>0.000978</td>\n",
       "    </tr>\n",
       "    <tr>\n",
       "      <th>59</th>\n",
       "      <td>56</td>\n",
       "      <td>retaccpt</td>\n",
       "      <td>0.000956</td>\n",
       "    </tr>\n",
       "    <tr>\n",
       "      <th>60</th>\n",
       "      <td>62</td>\n",
       "      <td>mcycle</td>\n",
       "      <td>0.000923</td>\n",
       "    </tr>\n",
       "    <tr>\n",
       "      <th>61</th>\n",
       "      <td>51</td>\n",
       "      <td>mailflag</td>\n",
       "      <td>0.000859</td>\n",
       "    </tr>\n",
       "    <tr>\n",
       "      <th>62</th>\n",
       "      <td>44</td>\n",
       "      <td>occret</td>\n",
       "      <td>0.000805</td>\n",
       "    </tr>\n",
       "    <tr>\n",
       "      <th>63</th>\n",
       "      <td>42</td>\n",
       "      <td>occstud</td>\n",
       "      <td>0.000566</td>\n",
       "    </tr>\n",
       "    <tr>\n",
       "      <th>64</th>\n",
       "      <td>19</td>\n",
       "      <td>callfwdv</td>\n",
       "      <td>0.000380</td>\n",
       "    </tr>\n",
       "    <tr>\n",
       "      <th>65</th>\n",
       "      <td>43</td>\n",
       "      <td>occhmkr</td>\n",
       "      <td>0.000265</td>\n",
       "    </tr>\n",
       "  </tbody>\n",
       "</table>\n",
       "<p>66 rows × 3 columns</p>\n",
       "</div>"
      ],
      "text/plain": [
       "    index  Features  Importance\n",
       "0      21    months    0.056912\n",
       "1      26   eqpdays    0.053342\n",
       "2       6   changem    0.038387\n",
       "3       1       mou    0.038312\n",
       "4       3  directas    0.037868\n",
       "5       2  recchrge    0.037057\n",
       "6       0   revenue    0.034463\n",
       "7       7   changer    0.033972\n",
       "8      16   peakvce    0.032044\n",
       "9       4   overage    0.031715\n",
       "10      9   blckvce    0.031485\n",
       "11     17  opeakvce    0.030622\n",
       "12     13    mourec    0.030112\n",
       "13     10  unansvce    0.029971\n",
       "14     14  outcalls    0.029069\n",
       "15      8   dropvce    0.028595\n",
       "16     18   dropblk    0.027175\n",
       "17     61    income    0.026812\n",
       "18      5      roam    0.026166\n",
       "19     15   incalls    0.025247\n",
       "20     27      age1    0.024942\n",
       "21     22  uniqsubs    0.024566\n",
       "22     20  callwait    0.023240\n",
       "23     12  threeway    0.021477\n",
       "24     11  custcare    0.021429\n",
       "25     28      age2    0.018835\n",
       "26     64    setprc    0.016069\n",
       "27     25    models    0.015092\n",
       "28     24    phones    0.014630\n",
       "29     23  actvsubs    0.012316\n",
       "..    ...       ...         ...\n",
       "36     29  children    0.005702\n",
       "37     63   setprcm    0.005529\n",
       "38     34  prizmtwn    0.004975\n",
       "39     53     pcown    0.004800\n",
       "40     49   mailord    0.004749\n",
       "41     58  newcelln    0.004747\n",
       "42     50   mailres    0.004710\n",
       "43     37     truck    0.004548\n",
       "44     36    webcap    0.004386\n",
       "45     46   ownrent    0.004364\n",
       "46     39   occprof    0.004327\n",
       "47     30   credita    0.004278\n",
       "48     54  creditcd    0.004216\n",
       "49     60   incmiss    0.002962\n",
       "50     38        rv    0.002739\n",
       "51     59     refer    0.002490\n",
       "52     65   retcall    0.002349\n",
       "53     52    travel    0.002309\n",
       "54     32  prizmrur    0.002272\n",
       "55     55  retcalls    0.002218\n",
       "56     41   occcrft    0.001517\n",
       "57     40   occcler    0.001228\n",
       "58     45   occself    0.000978\n",
       "59     56  retaccpt    0.000956\n",
       "60     62    mcycle    0.000923\n",
       "61     51  mailflag    0.000859\n",
       "62     44    occret    0.000805\n",
       "63     42   occstud    0.000566\n",
       "64     19  callfwdv    0.000380\n",
       "65     43   occhmkr    0.000265\n",
       "\n",
       "[66 rows x 3 columns]"
      ]
     },
     "execution_count": 20,
     "metadata": {},
     "output_type": "execute_result"
    }
   ],
   "source": [
    "feature_importance.reset_index()"
   ]
  },
  {
   "cell_type": "code",
   "execution_count": 44,
   "metadata": {},
   "outputs": [
    {
     "data": {
      "image/png": "[encoded data removed]",
      "text/plain": [
       "<Figure size 1800x1440 with 1 Axes>"
      ]
     },
     "metadata": {
      "needs_background": "light"
     },
     "output_type": "display_data"
    }
   ],
   "source": [
    "feature_importance.plot.barh(x = \"Features\", figsize=(25,20), fontsize=15, legend=False);"
   ]
  },
  {
   "cell_type": "code",
   "execution_count": 25,
   "metadata": {},
   "outputs": [],
   "source": [
    "coefs = [coef for coef in logit.coef_.tolist()[0]]"
   ]
  },
  {
   "cell_type": "code",
   "execution_count": 54,
   "metadata": {},
   "outputs": [],
   "source": [
    "features = list(X.columns.values)\n",
    "\n",
    "coef_df = pd.DataFrame(coefs, columns=['Coefs']).reset_index()\n",
    "coef_df['Features'] = features\n",
    "coef_df.sort_values(by=['Coefs'], ascending=True, inplace=True)\n",
    "#coef_df = coef_df.loc[coef_df['Coefs'].abs() > 0.05, :]\n",
    "coef_df.reset_index(drop=True, inplace=True)"
   ]
  },
  {
   "cell_type": "code",
   "execution_count": 55,
   "metadata": {},
   "outputs": [
    {
     "data": {
      "text/html": [
       "<div>\n",
       "<style scoped>\n",
       "    .dataframe tbody tr th:only-of-type {\n",
       "        vertical-align: middle;\n",
       "    }\n",
       "\n",
       "    .dataframe tbody tr th {\n",
       "        vertical-align: top;\n",
       "    }\n",
       "\n",
       "    .dataframe thead th {\n",
       "        text-align: right;\n",
       "    }\n",
       "</style>\n",
       "<table border=\"1\" class=\"dataframe\">\n",
       "  <thead>\n",
       "    <tr style=\"text-align: right;\">\n",
       "      <th></th>\n",
       "      <th>index</th>\n",
       "      <th>Coefs</th>\n",
       "      <th>Features</th>\n",
       "    </tr>\n",
       "  </thead>\n",
       "  <tbody>\n",
       "    <tr>\n",
       "      <th>0</th>\n",
       "      <td>21</td>\n",
       "      <td>-0.252490</td>\n",
       "      <td>months</td>\n",
       "    </tr>\n",
       "    <tr>\n",
       "      <th>1</th>\n",
       "      <td>1</td>\n",
       "      <td>-0.183467</td>\n",
       "      <td>mou</td>\n",
       "    </tr>\n",
       "    <tr>\n",
       "      <th>2</th>\n",
       "      <td>31</td>\n",
       "      <td>-0.162560</td>\n",
       "      <td>creditaa</td>\n",
       "    </tr>\n",
       "    <tr>\n",
       "      <th>3</th>\n",
       "      <td>6</td>\n",
       "      <td>-0.155034</td>\n",
       "      <td>changem</td>\n",
       "    </tr>\n",
       "    <tr>\n",
       "      <th>4</th>\n",
       "      <td>23</td>\n",
       "      <td>-0.132747</td>\n",
       "      <td>actvsubs</td>\n",
       "    </tr>\n",
       "    <tr>\n",
       "      <th>5</th>\n",
       "      <td>27</td>\n",
       "      <td>-0.125645</td>\n",
       "      <td>age1</td>\n",
       "    </tr>\n",
       "    <tr>\n",
       "      <th>6</th>\n",
       "      <td>18</td>\n",
       "      <td>-0.093901</td>\n",
       "      <td>dropblk</td>\n",
       "    </tr>\n",
       "    <tr>\n",
       "      <th>7</th>\n",
       "      <td>50</td>\n",
       "      <td>-0.088608</td>\n",
       "      <td>mailres</td>\n",
       "    </tr>\n",
       "    <tr>\n",
       "      <th>8</th>\n",
       "      <td>16</td>\n",
       "      <td>-0.081472</td>\n",
       "      <td>peakvce</td>\n",
       "    </tr>\n",
       "    <tr>\n",
       "      <th>9</th>\n",
       "      <td>30</td>\n",
       "      <td>-0.081244</td>\n",
       "      <td>credita</td>\n",
       "    </tr>\n",
       "    <tr>\n",
       "      <th>10</th>\n",
       "      <td>63</td>\n",
       "      <td>-0.078945</td>\n",
       "      <td>setprcm</td>\n",
       "    </tr>\n",
       "    <tr>\n",
       "      <th>11</th>\n",
       "      <td>17</td>\n",
       "      <td>-0.053766</td>\n",
       "      <td>opeakvce</td>\n",
       "    </tr>\n",
       "    <tr>\n",
       "      <th>12</th>\n",
       "      <td>12</td>\n",
       "      <td>-0.052651</td>\n",
       "      <td>threeway</td>\n",
       "    </tr>\n",
       "    <tr>\n",
       "      <th>13</th>\n",
       "      <td>57</td>\n",
       "      <td>-0.052184</td>\n",
       "      <td>newcelly</td>\n",
       "    </tr>\n",
       "    <tr>\n",
       "      <th>14</th>\n",
       "      <td>2</td>\n",
       "      <td>-0.049222</td>\n",
       "      <td>recchrge</td>\n",
       "    </tr>\n",
       "    <tr>\n",
       "      <th>15</th>\n",
       "      <td>59</td>\n",
       "      <td>-0.042923</td>\n",
       "      <td>refer</td>\n",
       "    </tr>\n",
       "    <tr>\n",
       "      <th>16</th>\n",
       "      <td>11</td>\n",
       "      <td>-0.042479</td>\n",
       "      <td>custcare</td>\n",
       "    </tr>\n",
       "    <tr>\n",
       "      <th>17</th>\n",
       "      <td>15</td>\n",
       "      <td>-0.038182</td>\n",
       "      <td>incalls</td>\n",
       "    </tr>\n",
       "    <tr>\n",
       "      <th>18</th>\n",
       "      <td>33</td>\n",
       "      <td>-0.036808</td>\n",
       "      <td>prizmub</td>\n",
       "    </tr>\n",
       "    <tr>\n",
       "      <th>19</th>\n",
       "      <td>56</td>\n",
       "      <td>-0.032108</td>\n",
       "      <td>retaccpt</td>\n",
       "    </tr>\n",
       "    <tr>\n",
       "      <th>20</th>\n",
       "      <td>28</td>\n",
       "      <td>-0.032085</td>\n",
       "      <td>age2</td>\n",
       "    </tr>\n",
       "    <tr>\n",
       "      <th>21</th>\n",
       "      <td>36</td>\n",
       "      <td>-0.026937</td>\n",
       "      <td>webcap</td>\n",
       "    </tr>\n",
       "    <tr>\n",
       "      <th>22</th>\n",
       "      <td>39</td>\n",
       "      <td>-0.024218</td>\n",
       "      <td>occprof</td>\n",
       "    </tr>\n",
       "    <tr>\n",
       "      <th>23</th>\n",
       "      <td>58</td>\n",
       "      <td>-0.022853</td>\n",
       "      <td>newcelln</td>\n",
       "    </tr>\n",
       "    <tr>\n",
       "      <th>24</th>\n",
       "      <td>37</td>\n",
       "      <td>-0.016218</td>\n",
       "      <td>truck</td>\n",
       "    </tr>\n",
       "    <tr>\n",
       "      <th>25</th>\n",
       "      <td>53</td>\n",
       "      <td>-0.014573</td>\n",
       "      <td>pcown</td>\n",
       "    </tr>\n",
       "    <tr>\n",
       "      <th>26</th>\n",
       "      <td>44</td>\n",
       "      <td>-0.013220</td>\n",
       "      <td>occret</td>\n",
       "    </tr>\n",
       "    <tr>\n",
       "      <th>27</th>\n",
       "      <td>61</td>\n",
       "      <td>-0.012929</td>\n",
       "      <td>income</td>\n",
       "    </tr>\n",
       "    <tr>\n",
       "      <th>28</th>\n",
       "      <td>19</td>\n",
       "      <td>-0.012337</td>\n",
       "      <td>callfwdv</td>\n",
       "    </tr>\n",
       "    <tr>\n",
       "      <th>29</th>\n",
       "      <td>3</td>\n",
       "      <td>-0.011414</td>\n",
       "      <td>directas</td>\n",
       "    </tr>\n",
       "    <tr>\n",
       "      <th>...</th>\n",
       "      <td>...</td>\n",
       "      <td>...</td>\n",
       "      <td>...</td>\n",
       "    </tr>\n",
       "    <tr>\n",
       "      <th>36</th>\n",
       "      <td>46</td>\n",
       "      <td>0.006447</td>\n",
       "      <td>ownrent</td>\n",
       "    </tr>\n",
       "    <tr>\n",
       "      <th>37</th>\n",
       "      <td>42</td>\n",
       "      <td>0.007083</td>\n",
       "      <td>occstud</td>\n",
       "    </tr>\n",
       "    <tr>\n",
       "      <th>38</th>\n",
       "      <td>32</td>\n",
       "      <td>0.008923</td>\n",
       "      <td>prizmrur</td>\n",
       "    </tr>\n",
       "    <tr>\n",
       "      <th>39</th>\n",
       "      <td>38</td>\n",
       "      <td>0.010744</td>\n",
       "      <td>rv</td>\n",
       "    </tr>\n",
       "    <tr>\n",
       "      <th>40</th>\n",
       "      <td>40</td>\n",
       "      <td>0.011289</td>\n",
       "      <td>occcler</td>\n",
       "    </tr>\n",
       "    <tr>\n",
       "      <th>41</th>\n",
       "      <td>60</td>\n",
       "      <td>0.011543</td>\n",
       "      <td>incmiss</td>\n",
       "    </tr>\n",
       "    <tr>\n",
       "      <th>42</th>\n",
       "      <td>62</td>\n",
       "      <td>0.011925</td>\n",
       "      <td>mcycle</td>\n",
       "    </tr>\n",
       "    <tr>\n",
       "      <th>43</th>\n",
       "      <td>49</td>\n",
       "      <td>0.018195</td>\n",
       "      <td>mailord</td>\n",
       "    </tr>\n",
       "    <tr>\n",
       "      <th>44</th>\n",
       "      <td>64</td>\n",
       "      <td>0.018321</td>\n",
       "      <td>setprc</td>\n",
       "    </tr>\n",
       "    <tr>\n",
       "      <th>45</th>\n",
       "      <td>47</td>\n",
       "      <td>0.026836</td>\n",
       "      <td>marryun</td>\n",
       "    </tr>\n",
       "    <tr>\n",
       "      <th>46</th>\n",
       "      <td>0</td>\n",
       "      <td>0.027271</td>\n",
       "      <td>revenue</td>\n",
       "    </tr>\n",
       "    <tr>\n",
       "      <th>47</th>\n",
       "      <td>20</td>\n",
       "      <td>0.030289</td>\n",
       "      <td>callwait</td>\n",
       "    </tr>\n",
       "    <tr>\n",
       "      <th>48</th>\n",
       "      <td>24</td>\n",
       "      <td>0.033581</td>\n",
       "      <td>phones</td>\n",
       "    </tr>\n",
       "    <tr>\n",
       "      <th>49</th>\n",
       "      <td>13</td>\n",
       "      <td>0.035305</td>\n",
       "      <td>mourec</td>\n",
       "    </tr>\n",
       "    <tr>\n",
       "      <th>50</th>\n",
       "      <td>5</td>\n",
       "      <td>0.037172</td>\n",
       "      <td>roam</td>\n",
       "    </tr>\n",
       "    <tr>\n",
       "      <th>51</th>\n",
       "      <td>10</td>\n",
       "      <td>0.038041</td>\n",
       "      <td>unansvce</td>\n",
       "    </tr>\n",
       "    <tr>\n",
       "      <th>52</th>\n",
       "      <td>14</td>\n",
       "      <td>0.043938</td>\n",
       "      <td>outcalls</td>\n",
       "    </tr>\n",
       "    <tr>\n",
       "      <th>53</th>\n",
       "      <td>25</td>\n",
       "      <td>0.045152</td>\n",
       "      <td>models</td>\n",
       "    </tr>\n",
       "    <tr>\n",
       "      <th>54</th>\n",
       "      <td>29</td>\n",
       "      <td>0.048146</td>\n",
       "      <td>children</td>\n",
       "    </tr>\n",
       "    <tr>\n",
       "      <th>55</th>\n",
       "      <td>48</td>\n",
       "      <td>0.060551</td>\n",
       "      <td>marryyes</td>\n",
       "    </tr>\n",
       "    <tr>\n",
       "      <th>56</th>\n",
       "      <td>55</td>\n",
       "      <td>0.066773</td>\n",
       "      <td>retcalls</td>\n",
       "    </tr>\n",
       "    <tr>\n",
       "      <th>57</th>\n",
       "      <td>35</td>\n",
       "      <td>0.072844</td>\n",
       "      <td>refurb</td>\n",
       "    </tr>\n",
       "    <tr>\n",
       "      <th>58</th>\n",
       "      <td>54</td>\n",
       "      <td>0.082339</td>\n",
       "      <td>creditcd</td>\n",
       "    </tr>\n",
       "    <tr>\n",
       "      <th>59</th>\n",
       "      <td>9</td>\n",
       "      <td>0.089048</td>\n",
       "      <td>blckvce</td>\n",
       "    </tr>\n",
       "    <tr>\n",
       "      <th>60</th>\n",
       "      <td>65</td>\n",
       "      <td>0.092596</td>\n",
       "      <td>retcall</td>\n",
       "    </tr>\n",
       "    <tr>\n",
       "      <th>61</th>\n",
       "      <td>4</td>\n",
       "      <td>0.107218</td>\n",
       "      <td>overage</td>\n",
       "    </tr>\n",
       "    <tr>\n",
       "      <th>62</th>\n",
       "      <td>7</td>\n",
       "      <td>0.115225</td>\n",
       "      <td>changer</td>\n",
       "    </tr>\n",
       "    <tr>\n",
       "      <th>63</th>\n",
       "      <td>22</td>\n",
       "      <td>0.127307</td>\n",
       "      <td>uniqsubs</td>\n",
       "    </tr>\n",
       "    <tr>\n",
       "      <th>64</th>\n",
       "      <td>8</td>\n",
       "      <td>0.128406</td>\n",
       "      <td>dropvce</td>\n",
       "    </tr>\n",
       "    <tr>\n",
       "      <th>65</th>\n",
       "      <td>26</td>\n",
       "      <td>0.393943</td>\n",
       "      <td>eqpdays</td>\n",
       "    </tr>\n",
       "  </tbody>\n",
       "</table>\n",
       "<p>66 rows × 3 columns</p>\n",
       "</div>"
      ],
      "text/plain": [
       "    index     Coefs  Features\n",
       "0      21 -0.252490    months\n",
       "1       1 -0.183467       mou\n",
       "2      31 -0.162560  creditaa\n",
       "3       6 -0.155034   changem\n",
       "4      23 -0.132747  actvsubs\n",
       "5      27 -0.125645      age1\n",
       "6      18 -0.093901   dropblk\n",
       "7      50 -0.088608   mailres\n",
       "8      16 -0.081472   peakvce\n",
       "9      30 -0.081244   credita\n",
       "10     63 -0.078945   setprcm\n",
       "11     17 -0.053766  opeakvce\n",
       "12     12 -0.052651  threeway\n",
       "13     57 -0.052184  newcelly\n",
       "14      2 -0.049222  recchrge\n",
       "15     59 -0.042923     refer\n",
       "16     11 -0.042479  custcare\n",
       "17     15 -0.038182   incalls\n",
       "18     33 -0.036808   prizmub\n",
       "19     56 -0.032108  retaccpt\n",
       "20     28 -0.032085      age2\n",
       "21     36 -0.026937    webcap\n",
       "22     39 -0.024218   occprof\n",
       "23     58 -0.022853  newcelln\n",
       "24     37 -0.016218     truck\n",
       "25     53 -0.014573     pcown\n",
       "26     44 -0.013220    occret\n",
       "27     61 -0.012929    income\n",
       "28     19 -0.012337  callfwdv\n",
       "29      3 -0.011414  directas\n",
       "..    ...       ...       ...\n",
       "36     46  0.006447   ownrent\n",
       "37     42  0.007083   occstud\n",
       "38     32  0.008923  prizmrur\n",
       "39     38  0.010744        rv\n",
       "40     40  0.011289   occcler\n",
       "41     60  0.011543   incmiss\n",
       "42     62  0.011925    mcycle\n",
       "43     49  0.018195   mailord\n",
       "44     64  0.018321    setprc\n",
       "45     47  0.026836   marryun\n",
       "46      0  0.027271   revenue\n",
       "47     20  0.030289  callwait\n",
       "48     24  0.033581    phones\n",
       "49     13  0.035305    mourec\n",
       "50      5  0.037172      roam\n",
       "51     10  0.038041  unansvce\n",
       "52     14  0.043938  outcalls\n",
       "53     25  0.045152    models\n",
       "54     29  0.048146  children\n",
       "55     48  0.060551  marryyes\n",
       "56     55  0.066773  retcalls\n",
       "57     35  0.072844    refurb\n",
       "58     54  0.082339  creditcd\n",
       "59      9  0.089048   blckvce\n",
       "60     65  0.092596   retcall\n",
       "61      4  0.107218   overage\n",
       "62      7  0.115225   changer\n",
       "63     22  0.127307  uniqsubs\n",
       "64      8  0.128406   dropvce\n",
       "65     26  0.393943   eqpdays\n",
       "\n",
       "[66 rows x 3 columns]"
      ]
     },
     "execution_count": 55,
     "metadata": {},
     "output_type": "execute_result"
    }
   ],
   "source": [
    "coef_df"
   ]
  },
  {
   "cell_type": "code",
   "execution_count": 37,
   "metadata": {},
   "outputs": [
    {
     "data": {
      "image/png": "[encoded data removed]",
      "text/plain": [
       "<Figure size 1800x1440 with 1 Axes>"
      ]
     },
     "metadata": {
      "needs_background": "light"
     },
     "output_type": "display_data"
    }
   ],
   "source": [
    "coef_df.plot.barh(x='index', figsize=(25,20), fontsize=15, legend=False);"
   ]
  },
  {
   "cell_type": "code",
   "execution_count": 56,
   "metadata": {},
   "outputs": [],
   "source": [
    "features_df = pd.merge(coef_df, feature_importance, on = 'Features', how = 'outer')"
   ]
  },
  {
   "cell_type": "code",
   "execution_count": 57,
   "metadata": {},
   "outputs": [
    {
     "data": {
      "text/html": [
       "<div>\n",
       "<style scoped>\n",
       "    .dataframe tbody tr th:only-of-type {\n",
       "        vertical-align: middle;\n",
       "    }\n",
       "\n",
       "    .dataframe tbody tr th {\n",
       "        vertical-align: top;\n",
       "    }\n",
       "\n",
       "    .dataframe thead th {\n",
       "        text-align: right;\n",
       "    }\n",
       "</style>\n",
       "<table border=\"1\" class=\"dataframe\">\n",
       "  <thead>\n",
       "    <tr style=\"text-align: right;\">\n",
       "      <th></th>\n",
       "      <th>index</th>\n",
       "      <th>Coefs</th>\n",
       "      <th>Features</th>\n",
       "      <th>Importance</th>\n",
       "    </tr>\n",
       "  </thead>\n",
       "  <tbody>\n",
       "    <tr>\n",
       "      <th>0</th>\n",
       "      <td>21</td>\n",
       "      <td>-0.252490</td>\n",
       "      <td>months</td>\n",
       "      <td>0.056912</td>\n",
       "    </tr>\n",
       "    <tr>\n",
       "      <th>1</th>\n",
       "      <td>1</td>\n",
       "      <td>-0.183467</td>\n",
       "      <td>mou</td>\n",
       "      <td>0.038312</td>\n",
       "    </tr>\n",
       "    <tr>\n",
       "      <th>2</th>\n",
       "      <td>31</td>\n",
       "      <td>-0.162560</td>\n",
       "      <td>creditaa</td>\n",
       "      <td>0.007454</td>\n",
       "    </tr>\n",
       "    <tr>\n",
       "      <th>3</th>\n",
       "      <td>6</td>\n",
       "      <td>-0.155034</td>\n",
       "      <td>changem</td>\n",
       "      <td>0.038387</td>\n",
       "    </tr>\n",
       "    <tr>\n",
       "      <th>4</th>\n",
       "      <td>23</td>\n",
       "      <td>-0.132747</td>\n",
       "      <td>actvsubs</td>\n",
       "      <td>0.012316</td>\n",
       "    </tr>\n",
       "    <tr>\n",
       "      <th>5</th>\n",
       "      <td>27</td>\n",
       "      <td>-0.125645</td>\n",
       "      <td>age1</td>\n",
       "      <td>0.024942</td>\n",
       "    </tr>\n",
       "    <tr>\n",
       "      <th>6</th>\n",
       "      <td>18</td>\n",
       "      <td>-0.093901</td>\n",
       "      <td>dropblk</td>\n",
       "      <td>0.027175</td>\n",
       "    </tr>\n",
       "    <tr>\n",
       "      <th>7</th>\n",
       "      <td>50</td>\n",
       "      <td>-0.088608</td>\n",
       "      <td>mailres</td>\n",
       "      <td>0.004710</td>\n",
       "    </tr>\n",
       "    <tr>\n",
       "      <th>8</th>\n",
       "      <td>16</td>\n",
       "      <td>-0.081472</td>\n",
       "      <td>peakvce</td>\n",
       "      <td>0.032044</td>\n",
       "    </tr>\n",
       "    <tr>\n",
       "      <th>9</th>\n",
       "      <td>30</td>\n",
       "      <td>-0.081244</td>\n",
       "      <td>credita</td>\n",
       "      <td>0.004278</td>\n",
       "    </tr>\n",
       "    <tr>\n",
       "      <th>10</th>\n",
       "      <td>63</td>\n",
       "      <td>-0.078945</td>\n",
       "      <td>setprcm</td>\n",
       "      <td>0.005529</td>\n",
       "    </tr>\n",
       "    <tr>\n",
       "      <th>11</th>\n",
       "      <td>17</td>\n",
       "      <td>-0.053766</td>\n",
       "      <td>opeakvce</td>\n",
       "      <td>0.030622</td>\n",
       "    </tr>\n",
       "    <tr>\n",
       "      <th>12</th>\n",
       "      <td>12</td>\n",
       "      <td>-0.052651</td>\n",
       "      <td>threeway</td>\n",
       "      <td>0.021477</td>\n",
       "    </tr>\n",
       "    <tr>\n",
       "      <th>13</th>\n",
       "      <td>57</td>\n",
       "      <td>-0.052184</td>\n",
       "      <td>newcelly</td>\n",
       "      <td>0.006422</td>\n",
       "    </tr>\n",
       "    <tr>\n",
       "      <th>14</th>\n",
       "      <td>2</td>\n",
       "      <td>-0.049222</td>\n",
       "      <td>recchrge</td>\n",
       "      <td>0.037057</td>\n",
       "    </tr>\n",
       "    <tr>\n",
       "      <th>15</th>\n",
       "      <td>59</td>\n",
       "      <td>-0.042923</td>\n",
       "      <td>refer</td>\n",
       "      <td>0.002490</td>\n",
       "    </tr>\n",
       "    <tr>\n",
       "      <th>16</th>\n",
       "      <td>11</td>\n",
       "      <td>-0.042479</td>\n",
       "      <td>custcare</td>\n",
       "      <td>0.021429</td>\n",
       "    </tr>\n",
       "    <tr>\n",
       "      <th>17</th>\n",
       "      <td>15</td>\n",
       "      <td>-0.038182</td>\n",
       "      <td>incalls</td>\n",
       "      <td>0.025247</td>\n",
       "    </tr>\n",
       "    <tr>\n",
       "      <th>18</th>\n",
       "      <td>33</td>\n",
       "      <td>-0.036808</td>\n",
       "      <td>prizmub</td>\n",
       "      <td>0.008704</td>\n",
       "    </tr>\n",
       "    <tr>\n",
       "      <th>19</th>\n",
       "      <td>56</td>\n",
       "      <td>-0.032108</td>\n",
       "      <td>retaccpt</td>\n",
       "      <td>0.000956</td>\n",
       "    </tr>\n",
       "    <tr>\n",
       "      <th>20</th>\n",
       "      <td>28</td>\n",
       "      <td>-0.032085</td>\n",
       "      <td>age2</td>\n",
       "      <td>0.018835</td>\n",
       "    </tr>\n",
       "    <tr>\n",
       "      <th>21</th>\n",
       "      <td>36</td>\n",
       "      <td>-0.026937</td>\n",
       "      <td>webcap</td>\n",
       "      <td>0.004386</td>\n",
       "    </tr>\n",
       "    <tr>\n",
       "      <th>22</th>\n",
       "      <td>39</td>\n",
       "      <td>-0.024218</td>\n",
       "      <td>occprof</td>\n",
       "      <td>0.004327</td>\n",
       "    </tr>\n",
       "    <tr>\n",
       "      <th>23</th>\n",
       "      <td>58</td>\n",
       "      <td>-0.022853</td>\n",
       "      <td>newcelln</td>\n",
       "      <td>0.004747</td>\n",
       "    </tr>\n",
       "    <tr>\n",
       "      <th>24</th>\n",
       "      <td>37</td>\n",
       "      <td>-0.016218</td>\n",
       "      <td>truck</td>\n",
       "      <td>0.004548</td>\n",
       "    </tr>\n",
       "    <tr>\n",
       "      <th>25</th>\n",
       "      <td>53</td>\n",
       "      <td>-0.014573</td>\n",
       "      <td>pcown</td>\n",
       "      <td>0.004800</td>\n",
       "    </tr>\n",
       "    <tr>\n",
       "      <th>26</th>\n",
       "      <td>44</td>\n",
       "      <td>-0.013220</td>\n",
       "      <td>occret</td>\n",
       "      <td>0.000805</td>\n",
       "    </tr>\n",
       "    <tr>\n",
       "      <th>27</th>\n",
       "      <td>61</td>\n",
       "      <td>-0.012929</td>\n",
       "      <td>income</td>\n",
       "      <td>0.026812</td>\n",
       "    </tr>\n",
       "    <tr>\n",
       "      <th>28</th>\n",
       "      <td>19</td>\n",
       "      <td>-0.012337</td>\n",
       "      <td>callfwdv</td>\n",
       "      <td>0.000380</td>\n",
       "    </tr>\n",
       "    <tr>\n",
       "      <th>29</th>\n",
       "      <td>3</td>\n",
       "      <td>-0.011414</td>\n",
       "      <td>directas</td>\n",
       "      <td>0.037868</td>\n",
       "    </tr>\n",
       "    <tr>\n",
       "      <th>...</th>\n",
       "      <td>...</td>\n",
       "      <td>...</td>\n",
       "      <td>...</td>\n",
       "      <td>...</td>\n",
       "    </tr>\n",
       "    <tr>\n",
       "      <th>36</th>\n",
       "      <td>46</td>\n",
       "      <td>0.006447</td>\n",
       "      <td>ownrent</td>\n",
       "      <td>0.004364</td>\n",
       "    </tr>\n",
       "    <tr>\n",
       "      <th>37</th>\n",
       "      <td>42</td>\n",
       "      <td>0.007083</td>\n",
       "      <td>occstud</td>\n",
       "      <td>0.000566</td>\n",
       "    </tr>\n",
       "    <tr>\n",
       "      <th>38</th>\n",
       "      <td>32</td>\n",
       "      <td>0.008923</td>\n",
       "      <td>prizmrur</td>\n",
       "      <td>0.002272</td>\n",
       "    </tr>\n",
       "    <tr>\n",
       "      <th>39</th>\n",
       "      <td>38</td>\n",
       "      <td>0.010744</td>\n",
       "      <td>rv</td>\n",
       "      <td>0.002739</td>\n",
       "    </tr>\n",
       "    <tr>\n",
       "      <th>40</th>\n",
       "      <td>40</td>\n",
       "      <td>0.011289</td>\n",
       "      <td>occcler</td>\n",
       "      <td>0.001228</td>\n",
       "    </tr>\n",
       "    <tr>\n",
       "      <th>41</th>\n",
       "      <td>60</td>\n",
       "      <td>0.011543</td>\n",
       "      <td>incmiss</td>\n",
       "      <td>0.002962</td>\n",
       "    </tr>\n",
       "    <tr>\n",
       "      <th>42</th>\n",
       "      <td>62</td>\n",
       "      <td>0.011925</td>\n",
       "      <td>mcycle</td>\n",
       "      <td>0.000923</td>\n",
       "    </tr>\n",
       "    <tr>\n",
       "      <th>43</th>\n",
       "      <td>49</td>\n",
       "      <td>0.018195</td>\n",
       "      <td>mailord</td>\n",
       "      <td>0.004749</td>\n",
       "    </tr>\n",
       "    <tr>\n",
       "      <th>44</th>\n",
       "      <td>64</td>\n",
       "      <td>0.018321</td>\n",
       "      <td>setprc</td>\n",
       "      <td>0.016069</td>\n",
       "    </tr>\n",
       "    <tr>\n",
       "      <th>45</th>\n",
       "      <td>47</td>\n",
       "      <td>0.026836</td>\n",
       "      <td>marryun</td>\n",
       "      <td>0.006259</td>\n",
       "    </tr>\n",
       "    <tr>\n",
       "      <th>46</th>\n",
       "      <td>0</td>\n",
       "      <td>0.027271</td>\n",
       "      <td>revenue</td>\n",
       "      <td>0.034463</td>\n",
       "    </tr>\n",
       "    <tr>\n",
       "      <th>47</th>\n",
       "      <td>20</td>\n",
       "      <td>0.030289</td>\n",
       "      <td>callwait</td>\n",
       "      <td>0.023240</td>\n",
       "    </tr>\n",
       "    <tr>\n",
       "      <th>48</th>\n",
       "      <td>24</td>\n",
       "      <td>0.033581</td>\n",
       "      <td>phones</td>\n",
       "      <td>0.014630</td>\n",
       "    </tr>\n",
       "    <tr>\n",
       "      <th>49</th>\n",
       "      <td>13</td>\n",
       "      <td>0.035305</td>\n",
       "      <td>mourec</td>\n",
       "      <td>0.030112</td>\n",
       "    </tr>\n",
       "    <tr>\n",
       "      <th>50</th>\n",
       "      <td>5</td>\n",
       "      <td>0.037172</td>\n",
       "      <td>roam</td>\n",
       "      <td>0.026166</td>\n",
       "    </tr>\n",
       "    <tr>\n",
       "      <th>51</th>\n",
       "      <td>10</td>\n",
       "      <td>0.038041</td>\n",
       "      <td>unansvce</td>\n",
       "      <td>0.029971</td>\n",
       "    </tr>\n",
       "    <tr>\n",
       "      <th>52</th>\n",
       "      <td>14</td>\n",
       "      <td>0.043938</td>\n",
       "      <td>outcalls</td>\n",
       "      <td>0.029069</td>\n",
       "    </tr>\n",
       "    <tr>\n",
       "      <th>53</th>\n",
       "      <td>25</td>\n",
       "      <td>0.045152</td>\n",
       "      <td>models</td>\n",
       "      <td>0.015092</td>\n",
       "    </tr>\n",
       "    <tr>\n",
       "      <th>54</th>\n",
       "      <td>29</td>\n",
       "      <td>0.048146</td>\n",
       "      <td>children</td>\n",
       "      <td>0.005702</td>\n",
       "    </tr>\n",
       "    <tr>\n",
       "      <th>55</th>\n",
       "      <td>48</td>\n",
       "      <td>0.060551</td>\n",
       "      <td>marryyes</td>\n",
       "      <td>0.005840</td>\n",
       "    </tr>\n",
       "    <tr>\n",
       "      <th>56</th>\n",
       "      <td>55</td>\n",
       "      <td>0.066773</td>\n",
       "      <td>retcalls</td>\n",
       "      <td>0.002218</td>\n",
       "    </tr>\n",
       "    <tr>\n",
       "      <th>57</th>\n",
       "      <td>35</td>\n",
       "      <td>0.072844</td>\n",
       "      <td>refurb</td>\n",
       "      <td>0.006251</td>\n",
       "    </tr>\n",
       "    <tr>\n",
       "      <th>58</th>\n",
       "      <td>54</td>\n",
       "      <td>0.082339</td>\n",
       "      <td>creditcd</td>\n",
       "      <td>0.004216</td>\n",
       "    </tr>\n",
       "    <tr>\n",
       "      <th>59</th>\n",
       "      <td>9</td>\n",
       "      <td>0.089048</td>\n",
       "      <td>blckvce</td>\n",
       "      <td>0.031485</td>\n",
       "    </tr>\n",
       "    <tr>\n",
       "      <th>60</th>\n",
       "      <td>65</td>\n",
       "      <td>0.092596</td>\n",
       "      <td>retcall</td>\n",
       "      <td>0.002349</td>\n",
       "    </tr>\n",
       "    <tr>\n",
       "      <th>61</th>\n",
       "      <td>4</td>\n",
       "      <td>0.107218</td>\n",
       "      <td>overage</td>\n",
       "      <td>0.031715</td>\n",
       "    </tr>\n",
       "    <tr>\n",
       "      <th>62</th>\n",
       "      <td>7</td>\n",
       "      <td>0.115225</td>\n",
       "      <td>changer</td>\n",
       "      <td>0.033972</td>\n",
       "    </tr>\n",
       "    <tr>\n",
       "      <th>63</th>\n",
       "      <td>22</td>\n",
       "      <td>0.127307</td>\n",
       "      <td>uniqsubs</td>\n",
       "      <td>0.024566</td>\n",
       "    </tr>\n",
       "    <tr>\n",
       "      <th>64</th>\n",
       "      <td>8</td>\n",
       "      <td>0.128406</td>\n",
       "      <td>dropvce</td>\n",
       "      <td>0.028595</td>\n",
       "    </tr>\n",
       "    <tr>\n",
       "      <th>65</th>\n",
       "      <td>26</td>\n",
       "      <td>0.393943</td>\n",
       "      <td>eqpdays</td>\n",
       "      <td>0.053342</td>\n",
       "    </tr>\n",
       "  </tbody>\n",
       "</table>\n",
       "<p>66 rows × 4 columns</p>\n",
       "</div>"
      ],
      "text/plain": [
       "    index     Coefs  Features  Importance\n",
       "0      21 -0.252490    months    0.056912\n",
       "1       1 -0.183467       mou    0.038312\n",
       "2      31 -0.162560  creditaa    0.007454\n",
       "3       6 -0.155034   changem    0.038387\n",
       "4      23 -0.132747  actvsubs    0.012316\n",
       "5      27 -0.125645      age1    0.024942\n",
       "6      18 -0.093901   dropblk    0.027175\n",
       "7      50 -0.088608   mailres    0.004710\n",
       "8      16 -0.081472   peakvce    0.032044\n",
       "9      30 -0.081244   credita    0.004278\n",
       "10     63 -0.078945   setprcm    0.005529\n",
       "11     17 -0.053766  opeakvce    0.030622\n",
       "12     12 -0.052651  threeway    0.021477\n",
       "13     57 -0.052184  newcelly    0.006422\n",
       "14      2 -0.049222  recchrge    0.037057\n",
       "15     59 -0.042923     refer    0.002490\n",
       "16     11 -0.042479  custcare    0.021429\n",
       "17     15 -0.038182   incalls    0.025247\n",
       "18     33 -0.036808   prizmub    0.008704\n",
       "19     56 -0.032108  retaccpt    0.000956\n",
       "20     28 -0.032085      age2    0.018835\n",
       "21     36 -0.026937    webcap    0.004386\n",
       "22     39 -0.024218   occprof    0.004327\n",
       "23     58 -0.022853  newcelln    0.004747\n",
       "24     37 -0.016218     truck    0.004548\n",
       "25     53 -0.014573     pcown    0.004800\n",
       "26     44 -0.013220    occret    0.000805\n",
       "27     61 -0.012929    income    0.026812\n",
       "28     19 -0.012337  callfwdv    0.000380\n",
       "29      3 -0.011414  directas    0.037868\n",
       "..    ...       ...       ...         ...\n",
       "36     46  0.006447   ownrent    0.004364\n",
       "37     42  0.007083   occstud    0.000566\n",
       "38     32  0.008923  prizmrur    0.002272\n",
       "39     38  0.010744        rv    0.002739\n",
       "40     40  0.011289   occcler    0.001228\n",
       "41     60  0.011543   incmiss    0.002962\n",
       "42     62  0.011925    mcycle    0.000923\n",
       "43     49  0.018195   mailord    0.004749\n",
       "44     64  0.018321    setprc    0.016069\n",
       "45     47  0.026836   marryun    0.006259\n",
       "46      0  0.027271   revenue    0.034463\n",
       "47     20  0.030289  callwait    0.023240\n",
       "48     24  0.033581    phones    0.014630\n",
       "49     13  0.035305    mourec    0.030112\n",
       "50      5  0.037172      roam    0.026166\n",
       "51     10  0.038041  unansvce    0.029971\n",
       "52     14  0.043938  outcalls    0.029069\n",
       "53     25  0.045152    models    0.015092\n",
       "54     29  0.048146  children    0.005702\n",
       "55     48  0.060551  marryyes    0.005840\n",
       "56     55  0.066773  retcalls    0.002218\n",
       "57     35  0.072844    refurb    0.006251\n",
       "58     54  0.082339  creditcd    0.004216\n",
       "59      9  0.089048   blckvce    0.031485\n",
       "60     65  0.092596   retcall    0.002349\n",
       "61      4  0.107218   overage    0.031715\n",
       "62      7  0.115225   changer    0.033972\n",
       "63     22  0.127307  uniqsubs    0.024566\n",
       "64      8  0.128406   dropvce    0.028595\n",
       "65     26  0.393943   eqpdays    0.053342\n",
       "\n",
       "[66 rows x 4 columns]"
      ]
     },
     "execution_count": 57,
     "metadata": {},
     "output_type": "execute_result"
    }
   ],
   "source": [
    "features_df"
   ]
  },
  {
   "cell_type": "code",
   "execution_count": 80,
   "metadata": {},
   "outputs": [
    {
     "name": "stderr",
     "output_type": "stream",
     "text": [
      "/anaconda3/lib/python3.7/site-packages/sklearn/linear_model/logistic.py:433: FutureWarning: Default solver will be changed to 'lbfgs' in 0.22. Specify a solver to silence this warning.\n",
      "  FutureWarning)\n"
     ]
    },
    {
     "name": "stdout",
     "output_type": "stream",
     "text": [
      "The score for logistic regression is\n",
      "Training:  58.60%\n",
      "Test set:  56.06%\n",
      "Logistic Regression confusion matrix: \n",
      "\n",
      " [[5289 4576]\n",
      " [1515 2482]]\n",
      "              precision    recall  f1-score   support\n",
      "\n",
      "           0       0.78      0.54      0.63      9865\n",
      "           1       0.35      0.62      0.45      3997\n",
      "\n",
      "   micro avg       0.56      0.56      0.56     13862\n",
      "   macro avg       0.56      0.58      0.54     13862\n",
      "weighted avg       0.65      0.56      0.58     13862\n",
      "\n"
     ]
    }
   ],
   "source": [
    "logit = LogisticRegression(C = 0.95)\n",
    "logit.fit(X_ada, y_ada)\n",
    "print(\"The score for logistic regression is\")\n",
    "print(\"Training: {:6.2f}%\".format(100*logit.score(X_ada, y_ada)))\n",
    "print(\"Test set: {:6.2f}%\".format(100*logit.score(X_test, y_test)))\n",
    "\n",
    "print(\"Logistic Regression confusion matrix: \\n\\n\", confusion_matrix(y_test, logit.predict(X_test)))\n",
    "\n",
    "\n",
    "print(classification_report(y_test, logit.predict(X_test)))"
   ]
  },
  {
   "cell_type": "code",
   "execution_count": 70,
   "metadata": {},
   "outputs": [
    {
     "name": "stdout",
     "output_type": "stream",
     "text": [
      "The score for XGBoost is\n",
      "Training:  78.36%\n",
      "Test set:  69.60%\n",
      "XBGC matrix: \n",
      "\n",
      " [[8860 1005]\n",
      " [3209  788]]\n",
      "              precision    recall  f1-score   support\n",
      "\n",
      "           0       0.73      0.90      0.81      9865\n",
      "           1       0.44      0.20      0.27      3997\n",
      "\n",
      "   micro avg       0.70      0.70      0.70     13862\n",
      "   macro avg       0.59      0.55      0.54     13862\n",
      "weighted avg       0.65      0.70      0.65     13862\n",
      "\n"
     ]
    }
   ],
   "source": [
    "clf = XGBClassifier()\n",
    "clf.fit(X_ada, y_ada)\n",
    "print(\"The score for XGBoost is\")\n",
    "print(\"Training: {:6.2f}%\".format(100*clf.score(X_ada, y_ada)))\n",
    "print(\"Test set: {:6.2f}%\".format(100*clf.score(X_test, y_test)))\n",
    "\n",
    "print(\"XBGC matrix: \\n\\n\", confusion_matrix(y_test, clf.predict(X_test)))\n",
    "\n",
    "print(classification_report(y_test, clf.predict(X_test)))"
   ]
  },
  {
   "cell_type": "code",
   "execution_count": 71,
   "metadata": {},
   "outputs": [
    {
     "name": "stdout",
     "output_type": "stream",
     "text": [
      "The score for Random Forest is\n",
      "Training: 100.00%\n",
      "Test set:  69.51%\n",
      "Random Forest confusion matrix: \n",
      "\n",
      " [[8788 1077]\n",
      " [3149  848]]\n",
      "              precision    recall  f1-score   support\n",
      "\n",
      "           0       0.74      0.89      0.81      9865\n",
      "           1       0.44      0.21      0.29      3997\n",
      "\n",
      "   micro avg       0.70      0.70      0.70     13862\n",
      "   macro avg       0.59      0.55      0.55     13862\n",
      "weighted avg       0.65      0.70      0.66     13862\n",
      "\n"
     ]
    }
   ],
   "source": [
    "rf = ensemble.RandomForestClassifier(n_estimators=100)\n",
    "rf.fit(X_ada, y_ada)\n",
    "print(\"The score for Random Forest is\")\n",
    "print(\"Training: {:6.2f}%\".format(100*rf.score(X_ada, y_ada)))\n",
    "print(\"Test set: {:6.2f}%\".format(100*rf.score(X_test, y_test)))\n",
    "\n",
    "print(\"Random Forest confusion matrix: \\n\\n\", confusion_matrix(y_test, rf.predict(X_test)))\n",
    "\n",
    "print(classification_report(y_test, rf.predict(X_test)))"
   ]
  },
  {
   "cell_type": "code",
   "execution_count": 79,
   "metadata": {},
   "outputs": [
    {
     "name": "stderr",
     "output_type": "stream",
     "text": [
      "/anaconda3/lib/python3.7/site-packages/sklearn/linear_model/logistic.py:433: FutureWarning: Default solver will be changed to 'lbfgs' in 0.22. Specify a solver to silence this warning.\n",
      "  FutureWarning)\n"
     ]
    },
    {
     "name": "stdout",
     "output_type": "stream",
     "text": [
      "The score for logistic regression is\n",
      "Training:  58.59%\n",
      "Test set:  56.06%\n",
      "Logistic Regression confusion matrix: \n",
      "\n",
      " [[5289 4576]\n",
      " [1515 2482]]\n",
      "              precision    recall  f1-score   support\n",
      "\n",
      "           0       0.78      0.54      0.63      9865\n",
      "           1       0.35      0.62      0.45      3997\n",
      "\n",
      "   micro avg       0.56      0.56      0.56     13862\n",
      "   macro avg       0.56      0.58      0.54     13862\n",
      "weighted avg       0.65      0.56      0.58     13862\n",
      "\n"
     ]
    }
   ],
   "source": [
    "logit = LogisticRegression(C = 1000)\n",
    "logit.fit(X_ada, y_ada)\n",
    "print(\"The score for logistic regression is\")\n",
    "print(\"Training: {:6.2f}%\".format(100*logit.score(X_ada, y_ada)))\n",
    "print(\"Test set: {:6.2f}%\".format(100*logit.score(X_test, y_test)))\n",
    "\n",
    "print(\"Logistic Regression confusion matrix: \\n\\n\", confusion_matrix(y_test, logit.predict(X_test)))\n",
    "\n",
    "\n",
    "print(classification_report(y_test, logit.predict(X_test)))"
   ]
  },
  {
   "cell_type": "code",
   "execution_count": 73,
   "metadata": {},
   "outputs": [
    {
     "name": "stderr",
     "output_type": "stream",
     "text": [
      "/anaconda3/lib/python3.7/site-packages/sklearn/linear_model/logistic.py:433: FutureWarning: Default solver will be changed to 'lbfgs' in 0.22. Specify a solver to silence this warning.\n",
      "  FutureWarning)\n"
     ]
    },
    {
     "name": "stdout",
     "output_type": "stream",
     "text": [
      "The score for logistic regression is\n",
      "Training:  58.59%\n",
      "Test set:  56.06%\n",
      "Logistic Regression confusion matrix: \n",
      "\n",
      " [[5289 4576]\n",
      " [1515 2482]]\n",
      "              precision    recall  f1-score   support\n",
      "\n",
      "           0       0.78      0.54      0.63      9865\n",
      "           1       0.35      0.62      0.45      3997\n",
      "\n",
      "   micro avg       0.56      0.56      0.56     13862\n",
      "   macro avg       0.56      0.58      0.54     13862\n",
      "weighted avg       0.65      0.56      0.58     13862\n",
      "\n"
     ]
    }
   ],
   "source": [
    "logit = LogisticRegression(C = 0.75)\n",
    "logit.fit(X_ada, y_ada)\n",
    "print(\"The score for logistic regression is\")\n",
    "print(\"Training: {:6.2f}%\".format(100*logit.score(X_ada, y_ada)))\n",
    "print(\"Test set: {:6.2f}%\".format(100*logit.score(X_test, y_test)))\n",
    "\n",
    "print(\"Logistic Regression confusion matrix: \\n\\n\", confusion_matrix(y_test, logit.predict(X_test)))\n",
    "\n",
    "\n",
    "print(classification_report(y_test, logit.predict(X_test)))"
   ]
  },
  {
   "cell_type": "code",
   "execution_count": 88,
   "metadata": {},
   "outputs": [],
   "source": [
    "def make_confusion_matrix(model, threshold=0.5):\n",
    "    # Predict class 1 if probability of being in class 1 is greater than threshold\n",
    "    # (model.predict(X_test) does this automatically with a threshold of 0.5)\n",
    "    y_predict = (model.predict_proba(X_test)[:, 1] >= threshold)\n",
    "    fraud_confusion = confusion_matrix(y_test, y_predict)\n",
    "    plt.figure(dpi=80)\n",
    "    sns.heatmap(fraud_confusion, cmap=plt.cm.Blues, annot=True, square=True, fmt='d',\n",
    "           xticklabels=['retain', 'churn'],\n",
    "           yticklabels=['retain', 'churn']);\n",
    "    plt.xlabel('prediction')\n",
    "    plt.ylabel('actual')"
   ]
  },
  {
   "cell_type": "code",
   "execution_count": 89,
   "metadata": {},
   "outputs": [
    {
     "data": {
      "image/png": "[encoded data removed]",
      "text/plain": [
       "<Figure size 480x320 with 2 Axes>"
      ]
     },
     "metadata": {
      "needs_background": "light"
     },
     "output_type": "display_data"
    }
   ],
   "source": [
    "make_confusion_matrix(logit, threshold = 0.5)"
   ]
  },
  {
   "cell_type": "code",
   "execution_count": 90,
   "metadata": {},
   "outputs": [
    {
     "data": {
      "image/png": "[encoded data removed]",
      "text/plain": [
       "<Figure size 480x320 with 2 Axes>"
      ]
     },
     "metadata": {
      "needs_background": "light"
     },
     "output_type": "display_data"
    }
   ],
   "source": [
    "make_confusion_matrix(logit, threshold = 0.3)"
   ]
  },
  {
   "cell_type": "code",
   "execution_count": 91,
   "metadata": {},
   "outputs": [
    {
     "data": {
      "image/png": "[encoded data removed]",
      "text/plain": [
       "<Figure size 480x320 with 2 Axes>"
      ]
     },
     "metadata": {
      "needs_background": "light"
     },
     "output_type": "display_data"
    }
   ],
   "source": [
    "make_confusion_matrix(logit, threshold = 0.4)"
   ]
  },
  {
   "cell_type": "code",
   "execution_count": 92,
   "metadata": {},
   "outputs": [
    {
     "data": {
      "image/png": "[encoded data removed]",
      "text/plain": [
       "<Figure size 480x320 with 2 Axes>"
      ]
     },
     "metadata": {
      "needs_background": "light"
     },
     "output_type": "display_data"
    }
   ],
   "source": [
    "make_confusion_matrix(logit, threshold = 0.6)"
   ]
  },
  {
   "cell_type": "code",
   "execution_count": 94,
   "metadata": {},
   "outputs": [
    {
     "data": {
      "text/plain": [
       "(array([22856., 16470., 10532.,  6624.,  4406.,  2787.,  1883.,  1277.,\n",
       "          841.,   554.,   342.,   236.,   159.,   122.,    74.,    43.,\n",
       "           30.,    19.,    13.,    11.,     6.,     7.,     4.,     1.,\n",
       "            3.,     1.,     3.,     2.,     1.,     0.,     0.,     0.,\n",
       "            0.,     1.,     1.]),\n",
       " array([   0.        ,  219.07857143,  438.15714286,  657.23571429,\n",
       "         876.31428571, 1095.39285714, 1314.47142857, 1533.55      ,\n",
       "        1752.62857143, 1971.70714286, 2190.78571429, 2409.86428571,\n",
       "        2628.94285714, 2848.02142857, 3067.1       , 3286.17857143,\n",
       "        3505.25714286, 3724.33571429, 3943.41428571, 4162.49285714,\n",
       "        4381.57142857, 4600.65      , 4819.72857143, 5038.80714286,\n",
       "        5257.88571429, 5476.96428571, 5696.04285714, 5915.12142857,\n",
       "        6134.2       , 6353.27857143, 6572.35714286, 6791.43571429,\n",
       "        7010.51428571, 7229.59285714, 7448.67142857, 7667.75      ]),\n",
       " <a list of 35 Patch objects>)"
      ]
     },
     "execution_count": 94,
     "metadata": {},
     "output_type": "execute_result"
    },
    {
     "data": {
      "image/png": "[encoded data removed]",
      "text/plain": [
       "<Figure size 432x288 with 1 Axes>"
      ]
     },
     "metadata": {
      "needs_background": "light"
     },
     "output_type": "display_data"
    }
   ],
   "source": [
    "plt.hist(x = df.mou, bins =35)"
   ]
  },
  {
   "cell_type": "code",
   "execution_count": 97,
   "metadata": {},
   "outputs": [],
   "source": [
    "df['log_mou'] = np.log(df.mou.apply(lambda x : x + 0.001))"
   ]
  },
  {
   "cell_type": "code",
   "execution_count": 98,
   "metadata": {},
   "outputs": [
    {
     "data": {
      "text/plain": [
       "(array([  822.,     0.,     0.,     0.,     0.,     0.,     0.,     0.,\n",
       "            0.,     0.,     0.,     0.,    69.,    57.,    49.,    88.,\n",
       "          123.,   193.,   264.,   446.,   558.,   866.,  1308.,  2005.,\n",
       "         2948.,  4796.,  6943.,  9931., 11708., 11179.,  8672.,  4648.,\n",
       "         1424.,   196.,    16.]),\n",
       " array([-6.90775528, -6.45482574, -6.0018962 , -5.54896666, -5.09603712,\n",
       "        -4.64310758, -4.19017804, -3.7372485 , -3.28431896, -2.83138942,\n",
       "        -2.37845988, -1.92553034, -1.4726008 , -1.01967126, -0.56674171,\n",
       "        -0.11381217,  0.33911737,  0.79204691,  1.24497645,  1.69790599,\n",
       "         2.15083553,  2.60376507,  3.05669461,  3.50962415,  3.96255369,\n",
       "         4.41548323,  4.86841277,  5.32134231,  5.77427185,  6.22720139,\n",
       "         6.68013093,  7.13306047,  7.58599001,  8.03891955,  8.49184909,\n",
       "         8.94477863]),\n",
       " <a list of 35 Patch objects>)"
      ]
     },
     "execution_count": 98,
     "metadata": {},
     "output_type": "execute_result"
    },
    {
     "data": {
      "image/png": "[encoded data removed]",
      "text/plain": [
       "<Figure size 432x288 with 1 Axes>"
      ]
     },
     "metadata": {
      "needs_background": "light"
     },
     "output_type": "display_data"
    }
   ],
   "source": [
    "plt.hist(x = df.log_mou, bins = 35)"
   ]
  },
  {
   "cell_type": "code",
   "execution_count": 99,
   "metadata": {},
   "outputs": [],
   "source": [
    "df['sq_custcare'] = df.custcare.apply(lambda x : x**2)"
   ]
  },
  {
   "cell_type": "code",
   "execution_count": 106,
   "metadata": {},
   "outputs": [
    {
     "data": {
      "image/png": "[encoded data removed]",
      "text/plain": [
       "<Figure size 432x288 with 1 Axes>"
      ]
     },
     "metadata": {
      "needs_background": "light"
     },
     "output_type": "display_data"
    }
   ],
   "source": [
    "plt.hist(x = df.custcare, bins = 100);"
   ]
  },
  {
   "cell_type": "code",
   "execution_count": 105,
   "metadata": {},
   "outputs": [
    {
     "data": {
      "image/png": "[encoded data removed]",
      "text/plain": [
       "<Figure size 432x288 with 1 Axes>"
      ]
     },
     "metadata": {
      "needs_background": "light"
     },
     "output_type": "display_data"
    }
   ],
   "source": [
    "plt.hist(x = df.sq_custcare, bins = 100);"
   ]
  },
  {
   "cell_type": "code",
   "execution_count": 292,
   "metadata": {},
   "outputs": [],
   "source": [
    "X2 = df.drop(['Unnamed: 0', 'X', 'customer', 'traintest', 'churn', 'custcare', 'mou'], axis =1)\n",
    "y2 = df.churn"
   ]
  },
  {
   "cell_type": "code",
   "execution_count": 293,
   "metadata": {},
   "outputs": [],
   "source": [
    "X_tr2, X_te2, y_train2, y_test2 = train_test_split(X2,y2, test_size=0.2, random_state=51, stratify = y2)"
   ]
  },
  {
   "cell_type": "code",
   "execution_count": 294,
   "metadata": {},
   "outputs": [
    {
     "data": {
      "text/plain": [
       "StandardScaler(copy=True, with_mean=True, with_std=True)"
      ]
     },
     "execution_count": 294,
     "metadata": {},
     "output_type": "execute_result"
    }
   ],
   "source": [
    "std = StandardScaler()\n",
    "std.fit(X_tr2.values)"
   ]
  },
  {
   "cell_type": "code",
   "execution_count": 295,
   "metadata": {},
   "outputs": [],
   "source": [
    "X_train2 = std.transform(X_tr2.values)\n",
    "\n",
    "X_test2 = std.transform(X_te2.values)"
   ]
  },
  {
   "cell_type": "code",
   "execution_count": 116,
   "metadata": {},
   "outputs": [
    {
     "name": "stderr",
     "output_type": "stream",
     "text": [
      "/anaconda3/lib/python3.7/site-packages/sklearn/linear_model/logistic.py:433: FutureWarning: Default solver will be changed to 'lbfgs' in 0.22. Specify a solver to silence this warning.\n",
      "  FutureWarning)\n"
     ]
    },
    {
     "name": "stdout",
     "output_type": "stream",
     "text": [
      "The score for logistic regression is\n",
      "Training:  71.48%\n",
      "Test set:  71.01%\n",
      "Logistic Regression confusion matrix: \n",
      "\n",
      " [[9680  185]\n",
      " [3834  163]]\n",
      "              precision    recall  f1-score   support\n",
      "\n",
      "           0       0.72      0.98      0.83      9865\n",
      "           1       0.47      0.04      0.08      3997\n",
      "\n",
      "   micro avg       0.71      0.71      0.71     13862\n",
      "   macro avg       0.59      0.51      0.45     13862\n",
      "weighted avg       0.64      0.71      0.61     13862\n",
      "\n"
     ]
    }
   ],
   "source": [
    "logit = LogisticRegression(C = 1000)\n",
    "logit.fit(X_train2, y_train2)\n",
    "print(\"The score for logistic regression is\")\n",
    "print(\"Training: {:6.2f}%\".format(100*logit.score(X_train2, y_train2)))\n",
    "print(\"Test set: {:6.2f}%\".format(100*logit.score(X_test2, y_test2)))\n",
    "\n",
    "print(\"Logistic Regression confusion matrix: \\n\\n\", confusion_matrix(y_test2, logit.predict(X_test2)))\n",
    "\n",
    "\n",
    "print(classification_report(y_test2, logit.predict(X_test2)))"
   ]
  },
  {
   "cell_type": "code",
   "execution_count": 117,
   "metadata": {},
   "outputs": [
    {
     "name": "stdout",
     "output_type": "stream",
     "text": [
      "The score for XGBoost is\n",
      "Training:  72.14%\n",
      "Test set:  71.92%\n",
      "XBGC matrix: \n",
      "\n",
      " [[9742  123]\n",
      " [3769  228]]\n",
      "              precision    recall  f1-score   support\n",
      "\n",
      "           0       0.72      0.99      0.83      9865\n",
      "           1       0.65      0.06      0.10      3997\n",
      "\n",
      "   micro avg       0.72      0.72      0.72     13862\n",
      "   macro avg       0.69      0.52      0.47     13862\n",
      "weighted avg       0.70      0.72      0.62     13862\n",
      "\n"
     ]
    }
   ],
   "source": [
    "#train_x = train_df.values\n",
    "#test_x = test_df.values\n",
    "\n",
    "\n",
    "clf = XGBClassifier()\n",
    "clf.fit(X_train2, y_train2)\n",
    "print(\"The score for XGBoost is\")\n",
    "print(\"Training: {:6.2f}%\".format(100*clf.score(X_train2, y_train2)))\n",
    "print(\"Test set: {:6.2f}%\".format(100*clf.score(X_test2, y_test2)))\n",
    "\n",
    "print(\"XBGC matrix: \\n\\n\", confusion_matrix(y_test2, clf.predict(X_test2)))\n",
    "\n",
    "print(classification_report(y_test2, clf.predict(X_test2)))"
   ]
  },
  {
   "cell_type": "code",
   "execution_count": 119,
   "metadata": {},
   "outputs": [
    {
     "name": "stdout",
     "output_type": "stream",
     "text": [
      "The score for Random Forest is\n",
      "Training: 100.00%\n",
      "Test set:  71.71%\n",
      "Random Forest confusion matrix: \n",
      "\n",
      " [[9640  225]\n",
      " [3696  301]]\n",
      "              precision    recall  f1-score   support\n",
      "\n",
      "           0       0.72      0.98      0.83      9865\n",
      "           1       0.57      0.08      0.13      3997\n",
      "\n",
      "   micro avg       0.72      0.72      0.72     13862\n",
      "   macro avg       0.65      0.53      0.48     13862\n",
      "weighted avg       0.68      0.72      0.63     13862\n",
      "\n"
     ]
    }
   ],
   "source": [
    "rf = ensemble.RandomForestClassifier(n_estimators=100)\n",
    "rf.fit(X_train2, y_train2)\n",
    "print(\"The score for Random Forest is\")\n",
    "print(\"Training: {:6.2f}%\".format(100*rf.score(X_train2, y_train2)))\n",
    "print(\"Test set: {:6.2f}%\".format(100*rf.score(X_test2, y_test2)))\n",
    "\n",
    "print(\"Random Forest confusion matrix: \\n\\n\", confusion_matrix(y_test2, rf.predict(X_test2)))\n",
    "\n",
    "print(classification_report(y_test2, rf.predict(X_test2)))"
   ]
  },
  {
   "cell_type": "code",
   "execution_count": 120,
   "metadata": {},
   "outputs": [],
   "source": [
    "X_ada2, y_ada2 = ADASYN(random_state = 42).fit_sample(X_train2, y_train2)"
   ]
  },
  {
   "cell_type": "code",
   "execution_count": 163,
   "metadata": {},
   "outputs": [
    {
     "name": "stderr",
     "output_type": "stream",
     "text": [
      "/anaconda3/lib/python3.7/site-packages/sklearn/linear_model/logistic.py:433: FutureWarning: Default solver will be changed to 'lbfgs' in 0.22. Specify a solver to silence this warning.\n",
      "  FutureWarning)\n"
     ]
    },
    {
     "name": "stdout",
     "output_type": "stream",
     "text": [
      "The score for logistic regression is\n",
      "Training:  58.48%\n",
      "Test set:  56.68%\n",
      "Logistic Regression confusion matrix: \n",
      "\n",
      " [[5392 4473]\n",
      " [1532 2465]]\n",
      "              precision    recall  f1-score   support\n",
      "\n",
      "           0       0.78      0.55      0.64      9865\n",
      "           1       0.36      0.62      0.45      3997\n",
      "\n",
      "   micro avg       0.57      0.57      0.57     13862\n",
      "   macro avg       0.57      0.58      0.55     13862\n",
      "weighted avg       0.66      0.57      0.59     13862\n",
      "\n"
     ]
    }
   ],
   "source": [
    "logit = LogisticRegression(C = 1000)\n",
    "logit.fit(X_ada2, y_ada2)\n",
    "print(\"The score for logistic regression is\")\n",
    "print(\"Training: {:6.2f}%\".format(100*logit.score(X_ada2, y_ada2)))\n",
    "print(\"Test set: {:6.2f}%\".format(100*logit.score(X_test2, y_test2)))\n",
    "\n",
    "print(\"Logistic Regression confusion matrix: \\n\\n\", confusion_matrix(y_test2, logit.predict(X_test2)))\n",
    "\n",
    "\n",
    "print(classification_report(y_test2, logit.predict(X_test2)))"
   ]
  },
  {
   "cell_type": "code",
   "execution_count": 122,
   "metadata": {},
   "outputs": [
    {
     "name": "stdout",
     "output_type": "stream",
     "text": [
      "The score for Random Forest is\n",
      "Training: 100.00%\n",
      "Test set:  69.55%\n",
      "Random Forest confusion matrix: \n",
      "\n",
      " [[8773 1092]\n",
      " [3129  868]]\n",
      "              precision    recall  f1-score   support\n",
      "\n",
      "           0       0.74      0.89      0.81      9865\n",
      "           1       0.44      0.22      0.29      3997\n",
      "\n",
      "   micro avg       0.70      0.70      0.70     13862\n",
      "   macro avg       0.59      0.55      0.55     13862\n",
      "weighted avg       0.65      0.70      0.66     13862\n",
      "\n"
     ]
    }
   ],
   "source": [
    "rf = ensemble.RandomForestClassifier(n_estimators=100)\n",
    "rf.fit(X_ada2, y_ada2)\n",
    "print(\"The score for Random Forest is\")\n",
    "print(\"Training: {:6.2f}%\".format(100*rf.score(X_ada2, y_ada2)))\n",
    "print(\"Test set: {:6.2f}%\".format(100*rf.score(X_test2, y_test2)))\n",
    "\n",
    "print(\"Random Forest confusion matrix: \\n\\n\", confusion_matrix(y_test2, rf.predict(X_test2)))\n",
    "\n",
    "print(classification_report(y_test2, rf.predict(X_test2)))"
   ]
  },
  {
   "cell_type": "code",
   "execution_count": 211,
   "metadata": {},
   "outputs": [
    {
     "name": "stdout",
     "output_type": "stream",
     "text": [
      "The score for XGBoost is\n",
      "Training:  79.67%\n",
      "Test set:  70.89%\n",
      "XBGC matrix: \n",
      "\n",
      " [[9206  659]\n",
      " [3376  621]]\n",
      "              precision    recall  f1-score   support\n",
      "\n",
      "           0       0.73      0.93      0.82      9865\n",
      "           1       0.49      0.16      0.24      3997\n",
      "\n",
      "   micro avg       0.71      0.71      0.71     13862\n",
      "   macro avg       0.61      0.54      0.53     13862\n",
      "weighted avg       0.66      0.71      0.65     13862\n",
      "\n"
     ]
    }
   ],
   "source": [
    "best_XGB = XGBClassifier()\n",
    "best_XGB.fit(X_ada2, y_ada2)\n",
    "print(\"The score for XGBoost is\")\n",
    "print(\"Training: {:6.2f}%\".format(100*clf.score(X_ada2, y_ada2)))\n",
    "print(\"Test set: {:6.2f}%\".format(100*clf.score(X_test2, y_test2)))\n",
    "\n",
    "print(\"XBGC matrix: \\n\\n\", confusion_matrix(y_test2, clf.predict(X_test2)))\n",
    "\n",
    "print(classification_report(y_test2, clf.predict(X_test2)))"
   ]
  },
  {
   "cell_type": "code",
   "execution_count": 124,
   "metadata": {},
   "outputs": [],
   "source": [
    "X_smote2, y_smote2 = SMOTE(random_state = 42).fit_sample(X_train2, y_train2)"
   ]
  },
  {
   "cell_type": "code",
   "execution_count": 125,
   "metadata": {},
   "outputs": [
    {
     "name": "stdout",
     "output_type": "stream",
     "text": [
      "The score for XGBoost is\n",
      "Training:  78.39%\n",
      "Test set:  69.91%\n",
      "XBGC matrix: \n",
      "\n",
      " [[8896  969]\n",
      " [3202  795]]\n",
      "              precision    recall  f1-score   support\n",
      "\n",
      "           0       0.74      0.90      0.81      9865\n",
      "           1       0.45      0.20      0.28      3997\n",
      "\n",
      "   micro avg       0.70      0.70      0.70     13862\n",
      "   macro avg       0.59      0.55      0.54     13862\n",
      "weighted avg       0.65      0.70      0.66     13862\n",
      "\n"
     ]
    }
   ],
   "source": [
    "clf = XGBClassifier()\n",
    "clf.fit(X_smote2, y_smote2)\n",
    "print(\"The score for XGBoost is\")\n",
    "print(\"Training: {:6.2f}%\".format(100*clf.score(X_smote2, y_smote2)))\n",
    "print(\"Test set: {:6.2f}%\".format(100*clf.score(X_test2, y_test2)))\n",
    "\n",
    "print(\"XBGC matrix: \\n\\n\", confusion_matrix(y_test2, clf.predict(X_test2)))\n",
    "\n",
    "print(classification_report(y_test2, clf.predict(X_test2)))"
   ]
  },
  {
   "cell_type": "code",
   "execution_count": 126,
   "metadata": {},
   "outputs": [
    {
     "name": "stdout",
     "output_type": "stream",
     "text": [
      "The score for Random Forest is\n",
      "Training: 100.00%\n",
      "Test set:  70.10%\n",
      "Random Forest confusion matrix: \n",
      "\n",
      " [[8897  968]\n",
      " [3177  820]]\n",
      "              precision    recall  f1-score   support\n",
      "\n",
      "           0       0.74      0.90      0.81      9865\n",
      "           1       0.46      0.21      0.28      3997\n",
      "\n",
      "   micro avg       0.70      0.70      0.70     13862\n",
      "   macro avg       0.60      0.55      0.55     13862\n",
      "weighted avg       0.66      0.70      0.66     13862\n",
      "\n"
     ]
    }
   ],
   "source": [
    "rf = ensemble.RandomForestClassifier(n_estimators=1000)\n",
    "rf.fit(X_ada2, y_ada2)\n",
    "print(\"The score for Random Forest is\")\n",
    "print(\"Training: {:6.2f}%\".format(100*rf.score(X_ada2, y_ada2)))\n",
    "print(\"Test set: {:6.2f}%\".format(100*rf.score(X_test2, y_test2)))\n",
    "\n",
    "print(\"Random Forest confusion matrix: \\n\\n\", confusion_matrix(y_test2, rf.predict(X_test2)))\n",
    "\n",
    "print(classification_report(y_test2, rf.predict(X_test2)))"
   ]
  },
  {
   "cell_type": "code",
   "execution_count": 127,
   "metadata": {},
   "outputs": [
    {
     "name": "stdout",
     "output_type": "stream",
     "text": [
      "The score for XGBoost is\n",
      "Training:  79.75%\n",
      "Test set:  70.89%\n",
      "XBGC matrix: \n",
      "\n",
      " [[9206  659]\n",
      " [3376  621]]\n",
      "              precision    recall  f1-score   support\n",
      "\n",
      "           0       0.73      0.93      0.82      9865\n",
      "           1       0.49      0.16      0.24      3997\n",
      "\n",
      "   micro avg       0.71      0.71      0.71     13862\n",
      "   macro avg       0.61      0.54      0.53     13862\n",
      "weighted avg       0.66      0.71      0.65     13862\n",
      "\n"
     ]
    }
   ],
   "source": [
    "clf = XGBClassifier(max_depth = 4)\n",
    "clf.fit(X_smote2, y_smote2)\n",
    "print(\"The score for XGBoost is\")\n",
    "print(\"Training: {:6.2f}%\".format(100*clf.score(X_smote2, y_smote2)))\n",
    "print(\"Test set: {:6.2f}%\".format(100*clf.score(X_test2, y_test2)))\n",
    "\n",
    "print(\"XBGC matrix: \\n\\n\", confusion_matrix(y_test2, clf.predict(X_test2)))\n",
    "\n",
    "print(classification_report(y_test2, clf.predict(X_test2)))"
   ]
  },
  {
   "cell_type": "code",
   "execution_count": 141,
   "metadata": {},
   "outputs": [
    {
     "data": {
      "image/png": "[encoded data removed]",
      "text/plain": [
       "<Figure size 480x320 with 2 Axes>"
      ]
     },
     "metadata": {
      "needs_background": "light"
     },
     "output_type": "display_data"
    }
   ],
   "source": [
    "make_confusion_matrix(rf, threshold = .75)"
   ]
  },
  {
   "cell_type": "code",
   "execution_count": 148,
   "metadata": {},
   "outputs": [],
   "source": [
    "from sklearn.model_selection import StratifiedKFold\n",
    "\n",
    "kf = StratifiedKFold(n_splits = 5, shuffle = True, random_state = 42)"
   ]
  },
  {
   "cell_type": "code",
   "execution_count": 150,
   "metadata": {},
   "outputs": [],
   "source": [
    "from collections import defaultdict\n",
    "cv_results = defaultdict(list)"
   ]
  },
  {
   "cell_type": "code",
   "execution_count": 151,
   "metadata": {},
   "outputs": [],
   "source": [
    "X_trainCV = np.array(X_train2)\n",
    "y_trainCV = np.array(y_train2)"
   ]
  },
  {
   "cell_type": "code",
   "execution_count": 152,
   "metadata": {},
   "outputs": [],
   "source": [
    "models = {'xgboost': XGBClassifier(), 'Logistic Regression': LogisticRegression(),\n",
    "         'Random Forest': ensemble.RandomForestClassifier()}"
   ]
  },
  {
   "cell_type": "code",
   "execution_count": 154,
   "metadata": {},
   "outputs": [
    {
     "name": "stderr",
     "output_type": "stream",
     "text": [
      "/anaconda3/lib/python3.7/site-packages/sklearn/linear_model/logistic.py:433: FutureWarning: Default solver will be changed to 'lbfgs' in 0.22. Specify a solver to silence this warning.\n",
      "  FutureWarning)\n",
      "/anaconda3/lib/python3.7/site-packages/sklearn/linear_model/logistic.py:433: FutureWarning: Default solver will be changed to 'lbfgs' in 0.22. Specify a solver to silence this warning.\n",
      "  FutureWarning)\n",
      "/anaconda3/lib/python3.7/site-packages/sklearn/linear_model/logistic.py:433: FutureWarning: Default solver will be changed to 'lbfgs' in 0.22. Specify a solver to silence this warning.\n",
      "  FutureWarning)\n",
      "/anaconda3/lib/python3.7/site-packages/sklearn/linear_model/logistic.py:433: FutureWarning: Default solver will be changed to 'lbfgs' in 0.22. Specify a solver to silence this warning.\n",
      "  FutureWarning)\n",
      "/anaconda3/lib/python3.7/site-packages/sklearn/linear_model/logistic.py:433: FutureWarning: Default solver will be changed to 'lbfgs' in 0.22. Specify a solver to silence this warning.\n",
      "  FutureWarning)\n",
      "/anaconda3/lib/python3.7/site-packages/sklearn/ensemble/forest.py:246: FutureWarning: The default value of n_estimators will change from 10 in version 0.20 to 100 in 0.22.\n",
      "  \"10 in version 0.20 to 100 in 0.22.\", FutureWarning)\n"
     ]
    }
   ],
   "source": [
    "for model_name, model in models.items():\n",
    "    for train_ind, val_ind in kf.split(X_trainCV, y_trainCV):\n",
    "        X_tr, y_tr = X_trainCV[train_ind], y_trainCV[train_ind]\n",
    "        X_ADA_train, y_ADA_train = ADASYN(random_state = 42).fit_sample(X_tr, y_tr)\n",
    "        X_val, y_val = X_trainCV[val_ind], y_trainCV[val_ind]\n",
    "        model.fit(X_ADA_train, y_ADA_train)\n",
    "        y_predictCV = model.predict(X_val)\n",
    "        precision = precision_score(y_val, y_predictCV)\n",
    "        cv_results[model_name].append(precision)"
   ]
  },
  {
   "cell_type": "code",
   "execution_count": 155,
   "metadata": {},
   "outputs": [
    {
     "data": {
      "text/plain": [
       "defaultdict(list,\n",
       "            {'xgboost': [0.45109931766489764,\n",
       "              0.44269662921348313,\n",
       "              0.45172180958811614,\n",
       "              0.44622093023255816,\n",
       "              0.4405594405594406],\n",
       "             'Logistic Regression': [0.35514018691588783,\n",
       "              0.3524967753823475,\n",
       "              0.3584905660377358,\n",
       "              0.35582479030754893,\n",
       "              0.3595263724434876],\n",
       "             'Random Forest': [0.3868801652892562,\n",
       "              0.38503740648379053,\n",
       "              0.38193343898573695,\n",
       "              0.37317930688096435,\n",
       "              0.38465322183964584]})"
      ]
     },
     "execution_count": 155,
     "metadata": {},
     "output_type": "execute_result"
    }
   ],
   "source": [
    "cv_results"
   ]
  },
  {
   "cell_type": "code",
   "execution_count": 158,
   "metadata": {},
   "outputs": [
    {
     "name": "stderr",
     "output_type": "stream",
     "text": [
      "/anaconda3/lib/python3.7/site-packages/sklearn/linear_model/logistic.py:433: FutureWarning: Default solver will be changed to 'lbfgs' in 0.22. Specify a solver to silence this warning.\n",
      "  FutureWarning)\n",
      "/anaconda3/lib/python3.7/site-packages/sklearn/ensemble/forest.py:246: FutureWarning: The default value of n_estimators will change from 10 in version 0.20 to 100 in 0.22.\n",
      "  \"10 in version 0.20 to 100 in 0.22.\", FutureWarning)\n",
      "/anaconda3/lib/python3.7/site-packages/sklearn/neural_network/multilayer_perceptron.py:562: ConvergenceWarning: Stochastic Optimizer: Maximum iterations (200) reached and the optimization hasn't converged yet.\n",
      "  % self.max_iter, ConvergenceWarning)\n"
     ]
    },
    {
     "data": {
      "image/png": "[encoded data removed]",
      "text/plain": [
       "<Figure size 432x288 with 1 Axes>"
      ]
     },
     "metadata": {
      "needs_background": "light"
     },
     "output_type": "display_data"
    }
   ],
   "source": [
    "\n",
    "plt.figure()\n",
    "\n",
    "# Add the models to the list that you want to view on the ROC plot\n",
    "models = [\n",
    "    {'label': 'Logistic Regression','model': LogisticRegression()},\n",
    "    {'label': 'XG Boost','model': XGBClassifier()},\n",
    "    {'label': 'Random Forest','model': ensemble.RandomForestClassifier()},\n",
    "    {'label': 'KNN','model': KNeighborsClassifier(n_neighbors=6)},\n",
    "    {'label': 'Neural Network','model': neural_network.MLPClassifier()}\n",
    "]\n",
    "\n",
    "# Below for loop iterates through your models list\n",
    "for m in models:\n",
    "    model = m['model'] # select the model\n",
    "    model.fit(X_ada2, y_ada2) # train the model\n",
    "    y_pred=model.predict(X_test2) # predict the test data\n",
    "# Compute False postive rate, and True positive rate\n",
    "    fpr, tpr, thresholds = roc_curve(y_test2, model.predict_proba(X_test2)[:,1])\n",
    "# Calculate Area under the curve to display on the plot\n",
    "    auc = roc_auc_score(y_test2,model.predict(X_test2))\n",
    "# Now, plot the computed values\n",
    "    plt.plot(fpr, tpr, label='%s ROC (area = %0.2f)' % (m['label'], auc))\n",
    "# Custom settings for the plot \n",
    "plt.plot([0, 1], [0, 1],'r--')\n",
    "plt.xlim([0.0, 1.0])\n",
    "plt.ylim([0.0, 1.05])\n",
    "plt.xlabel('1-Specificity(False Positive Rate)')\n",
    "plt.ylabel('Sensitivity(True Positive Rate)')\n",
    "plt.title('Receiver Operating Characteristic')\n",
    "plt.legend(loc=\"lower right\")\n",
    "plt.show() "
   ]
  },
  {
   "cell_type": "code",
   "execution_count": 164,
   "metadata": {},
   "outputs": [
    {
     "name": "stderr",
     "output_type": "stream",
     "text": [
      "/anaconda3/lib/python3.7/site-packages/sklearn/linear_model/logistic.py:433: FutureWarning: Default solver will be changed to 'lbfgs' in 0.22. Specify a solver to silence this warning.\n",
      "  FutureWarning)\n"
     ]
    },
    {
     "name": "stdout",
     "output_type": "stream",
     "text": [
      "The score for logistic regression is\n",
      "Training:  58.48%\n",
      "Test set:  56.68%\n",
      "Logistic Regression confusion matrix: \n",
      "\n",
      " [[5392 4473]\n",
      " [1532 2465]]\n",
      "              precision    recall  f1-score   support\n",
      "\n",
      "           0       0.78      0.55      0.64      9865\n",
      "           1       0.36      0.62      0.45      3997\n",
      "\n",
      "   micro avg       0.57      0.57      0.57     13862\n",
      "   macro avg       0.57      0.58      0.55     13862\n",
      "weighted avg       0.66      0.57      0.59     13862\n",
      "\n"
     ]
    }
   ],
   "source": [
    "logit = LogisticRegression(C = 1000)\n",
    "logit.fit(X_ada2, y_ada2)\n",
    "print(\"The score for logistic regression is\")\n",
    "print(\"Training: {:6.2f}%\".format(100*logit.score(X_ada2, y_ada2)))\n",
    "print(\"Test set: {:6.2f}%\".format(100*logit.score(X_test2, y_test2)))\n",
    "\n",
    "print(\"Logistic Regression confusion matrix: \\n\\n\", confusion_matrix(y_test2, logit.predict(X_test2)))\n",
    "\n",
    "\n",
    "print(classification_report(y_test2, logit.predict(X_test2)))"
   ]
  },
  {
   "cell_type": "code",
   "execution_count": 165,
   "metadata": {},
   "outputs": [],
   "source": [
    "from sklearn.model_selection import GridSearchCV"
   ]
  },
  {
   "cell_type": "code",
   "execution_count": 166,
   "metadata": {},
   "outputs": [],
   "source": [
    "penalty = ['l1', 'l2']\n",
    "C = np.logspace(0, 4, 10)\n",
    "hyperparameters = dict(C=C, penalty=penalty)"
   ]
  },
  {
   "cell_type": "code",
   "execution_count": 168,
   "metadata": {},
   "outputs": [],
   "source": [
    "grid = GridSearchCV(logit, hyperparameters, cv=5, verbose=0)"
   ]
  },
  {
   "cell_type": "code",
   "execution_count": 169,
   "metadata": {},
   "outputs": [
    {
     "name": "stderr",
     "output_type": "stream",
     "text": [
      "/anaconda3/lib/python3.7/site-packages/sklearn/linear_model/logistic.py:433: FutureWarning: Default solver will be changed to 'lbfgs' in 0.22. Specify a solver to silence this warning.\n",
      "  FutureWarning)\n",
      "/anaconda3/lib/python3.7/site-packages/sklearn/linear_model/logistic.py:433: FutureWarning: Default solver will be changed to 'lbfgs' in 0.22. Specify a solver to silence this warning.\n",
      "  FutureWarning)\n",
      "/anaconda3/lib/python3.7/site-packages/sklearn/linear_model/logistic.py:433: FutureWarning: Default solver will be changed to 'lbfgs' in 0.22. Specify a solver to silence this warning.\n",
      "  FutureWarning)\n",
      "/anaconda3/lib/python3.7/site-packages/sklearn/linear_model/logistic.py:433: FutureWarning: Default solver will be changed to 'lbfgs' in 0.22. Specify a solver to silence this warning.\n",
      "  FutureWarning)\n",
      "/anaconda3/lib/python3.7/site-packages/sklearn/linear_model/logistic.py:433: FutureWarning: Default solver will be changed to 'lbfgs' in 0.22. Specify a solver to silence this warning.\n",
      "  FutureWarning)\n",
      "/anaconda3/lib/python3.7/site-packages/sklearn/linear_model/logistic.py:433: FutureWarning: Default solver will be changed to 'lbfgs' in 0.22. Specify a solver to silence this warning.\n",
      "  FutureWarning)\n",
      "/anaconda3/lib/python3.7/site-packages/sklearn/linear_model/logistic.py:433: FutureWarning: Default solver will be changed to 'lbfgs' in 0.22. Specify a solver to silence this warning.\n",
      "  FutureWarning)\n",
      "/anaconda3/lib/python3.7/site-packages/sklearn/linear_model/logistic.py:433: FutureWarning: Default solver will be changed to 'lbfgs' in 0.22. Specify a solver to silence this warning.\n",
      "  FutureWarning)\n",
      "/anaconda3/lib/python3.7/site-packages/sklearn/linear_model/logistic.py:433: FutureWarning: Default solver will be changed to 'lbfgs' in 0.22. Specify a solver to silence this warning.\n",
      "  FutureWarning)\n",
      "/anaconda3/lib/python3.7/site-packages/sklearn/linear_model/logistic.py:433: FutureWarning: Default solver will be changed to 'lbfgs' in 0.22. Specify a solver to silence this warning.\n",
      "  FutureWarning)\n",
      "/anaconda3/lib/python3.7/site-packages/sklearn/linear_model/logistic.py:433: FutureWarning: Default solver will be changed to 'lbfgs' in 0.22. Specify a solver to silence this warning.\n",
      "  FutureWarning)\n",
      "/anaconda3/lib/python3.7/site-packages/sklearn/linear_model/logistic.py:433: FutureWarning: Default solver will be changed to 'lbfgs' in 0.22. Specify a solver to silence this warning.\n",
      "  FutureWarning)\n",
      "/anaconda3/lib/python3.7/site-packages/sklearn/linear_model/logistic.py:433: FutureWarning: Default solver will be changed to 'lbfgs' in 0.22. Specify a solver to silence this warning.\n",
      "  FutureWarning)\n",
      "/anaconda3/lib/python3.7/site-packages/sklearn/linear_model/logistic.py:433: FutureWarning: Default solver will be changed to 'lbfgs' in 0.22. Specify a solver to silence this warning.\n",
      "  FutureWarning)\n",
      "/anaconda3/lib/python3.7/site-packages/sklearn/linear_model/logistic.py:433: FutureWarning: Default solver will be changed to 'lbfgs' in 0.22. Specify a solver to silence this warning.\n",
      "  FutureWarning)\n",
      "/anaconda3/lib/python3.7/site-packages/sklearn/linear_model/logistic.py:433: FutureWarning: Default solver will be changed to 'lbfgs' in 0.22. Specify a solver to silence this warning.\n",
      "  FutureWarning)\n",
      "/anaconda3/lib/python3.7/site-packages/sklearn/linear_model/logistic.py:433: FutureWarning: Default solver will be changed to 'lbfgs' in 0.22. Specify a solver to silence this warning.\n",
      "  FutureWarning)\n",
      "/anaconda3/lib/python3.7/site-packages/sklearn/linear_model/logistic.py:433: FutureWarning: Default solver will be changed to 'lbfgs' in 0.22. Specify a solver to silence this warning.\n",
      "  FutureWarning)\n",
      "/anaconda3/lib/python3.7/site-packages/sklearn/linear_model/logistic.py:433: FutureWarning: Default solver will be changed to 'lbfgs' in 0.22. Specify a solver to silence this warning.\n",
      "  FutureWarning)\n",
      "/anaconda3/lib/python3.7/site-packages/sklearn/linear_model/logistic.py:433: FutureWarning: Default solver will be changed to 'lbfgs' in 0.22. Specify a solver to silence this warning.\n",
      "  FutureWarning)\n",
      "/anaconda3/lib/python3.7/site-packages/sklearn/linear_model/logistic.py:433: FutureWarning: Default solver will be changed to 'lbfgs' in 0.22. Specify a solver to silence this warning.\n",
      "  FutureWarning)\n",
      "/anaconda3/lib/python3.7/site-packages/sklearn/linear_model/logistic.py:433: FutureWarning: Default solver will be changed to 'lbfgs' in 0.22. Specify a solver to silence this warning.\n",
      "  FutureWarning)\n",
      "/anaconda3/lib/python3.7/site-packages/sklearn/linear_model/logistic.py:433: FutureWarning: Default solver will be changed to 'lbfgs' in 0.22. Specify a solver to silence this warning.\n",
      "  FutureWarning)\n",
      "/anaconda3/lib/python3.7/site-packages/sklearn/linear_model/logistic.py:433: FutureWarning: Default solver will be changed to 'lbfgs' in 0.22. Specify a solver to silence this warning.\n",
      "  FutureWarning)\n",
      "/anaconda3/lib/python3.7/site-packages/sklearn/linear_model/logistic.py:433: FutureWarning: Default solver will be changed to 'lbfgs' in 0.22. Specify a solver to silence this warning.\n",
      "  FutureWarning)\n",
      "/anaconda3/lib/python3.7/site-packages/sklearn/linear_model/logistic.py:433: FutureWarning: Default solver will be changed to 'lbfgs' in 0.22. Specify a solver to silence this warning.\n",
      "  FutureWarning)\n",
      "/anaconda3/lib/python3.7/site-packages/sklearn/linear_model/logistic.py:433: FutureWarning: Default solver will be changed to 'lbfgs' in 0.22. Specify a solver to silence this warning.\n",
      "  FutureWarning)\n",
      "/anaconda3/lib/python3.7/site-packages/sklearn/linear_model/logistic.py:433: FutureWarning: Default solver will be changed to 'lbfgs' in 0.22. Specify a solver to silence this warning.\n",
      "  FutureWarning)\n",
      "/anaconda3/lib/python3.7/site-packages/sklearn/linear_model/logistic.py:433: FutureWarning: Default solver will be changed to 'lbfgs' in 0.22. Specify a solver to silence this warning.\n",
      "  FutureWarning)\n",
      "/anaconda3/lib/python3.7/site-packages/sklearn/linear_model/logistic.py:433: FutureWarning: Default solver will be changed to 'lbfgs' in 0.22. Specify a solver to silence this warning.\n",
      "  FutureWarning)\n",
      "/anaconda3/lib/python3.7/site-packages/sklearn/linear_model/logistic.py:433: FutureWarning: Default solver will be changed to 'lbfgs' in 0.22. Specify a solver to silence this warning.\n",
      "  FutureWarning)\n",
      "/anaconda3/lib/python3.7/site-packages/sklearn/linear_model/logistic.py:433: FutureWarning: Default solver will be changed to 'lbfgs' in 0.22. Specify a solver to silence this warning.\n",
      "  FutureWarning)\n",
      "/anaconda3/lib/python3.7/site-packages/sklearn/linear_model/logistic.py:433: FutureWarning: Default solver will be changed to 'lbfgs' in 0.22. Specify a solver to silence this warning.\n",
      "  FutureWarning)\n",
      "/anaconda3/lib/python3.7/site-packages/sklearn/linear_model/logistic.py:433: FutureWarning: Default solver will be changed to 'lbfgs' in 0.22. Specify a solver to silence this warning.\n",
      "  FutureWarning)\n",
      "/anaconda3/lib/python3.7/site-packages/sklearn/linear_model/logistic.py:433: FutureWarning: Default solver will be changed to 'lbfgs' in 0.22. Specify a solver to silence this warning.\n",
      "  FutureWarning)\n",
      "/anaconda3/lib/python3.7/site-packages/sklearn/linear_model/logistic.py:433: FutureWarning: Default solver will be changed to 'lbfgs' in 0.22. Specify a solver to silence this warning.\n",
      "  FutureWarning)\n",
      "/anaconda3/lib/python3.7/site-packages/sklearn/linear_model/logistic.py:433: FutureWarning: Default solver will be changed to 'lbfgs' in 0.22. Specify a solver to silence this warning.\n",
      "  FutureWarning)\n",
      "/anaconda3/lib/python3.7/site-packages/sklearn/linear_model/logistic.py:433: FutureWarning: Default solver will be changed to 'lbfgs' in 0.22. Specify a solver to silence this warning.\n",
      "  FutureWarning)\n",
      "/anaconda3/lib/python3.7/site-packages/sklearn/linear_model/logistic.py:433: FutureWarning: Default solver will be changed to 'lbfgs' in 0.22. Specify a solver to silence this warning.\n",
      "  FutureWarning)\n",
      "/anaconda3/lib/python3.7/site-packages/sklearn/linear_model/logistic.py:433: FutureWarning: Default solver will be changed to 'lbfgs' in 0.22. Specify a solver to silence this warning.\n",
      "  FutureWarning)\n",
      "/anaconda3/lib/python3.7/site-packages/sklearn/linear_model/logistic.py:433: FutureWarning: Default solver will be changed to 'lbfgs' in 0.22. Specify a solver to silence this warning.\n",
      "  FutureWarning)\n"
     ]
    },
    {
     "name": "stderr",
     "output_type": "stream",
     "text": [
      "/anaconda3/lib/python3.7/site-packages/sklearn/linear_model/logistic.py:433: FutureWarning: Default solver will be changed to 'lbfgs' in 0.22. Specify a solver to silence this warning.\n",
      "  FutureWarning)\n",
      "/anaconda3/lib/python3.7/site-packages/sklearn/linear_model/logistic.py:433: FutureWarning: Default solver will be changed to 'lbfgs' in 0.22. Specify a solver to silence this warning.\n",
      "  FutureWarning)\n",
      "/anaconda3/lib/python3.7/site-packages/sklearn/linear_model/logistic.py:433: FutureWarning: Default solver will be changed to 'lbfgs' in 0.22. Specify a solver to silence this warning.\n",
      "  FutureWarning)\n",
      "/anaconda3/lib/python3.7/site-packages/sklearn/linear_model/logistic.py:433: FutureWarning: Default solver will be changed to 'lbfgs' in 0.22. Specify a solver to silence this warning.\n",
      "  FutureWarning)\n",
      "/anaconda3/lib/python3.7/site-packages/sklearn/linear_model/logistic.py:433: FutureWarning: Default solver will be changed to 'lbfgs' in 0.22. Specify a solver to silence this warning.\n",
      "  FutureWarning)\n",
      "/anaconda3/lib/python3.7/site-packages/sklearn/linear_model/logistic.py:433: FutureWarning: Default solver will be changed to 'lbfgs' in 0.22. Specify a solver to silence this warning.\n",
      "  FutureWarning)\n",
      "/anaconda3/lib/python3.7/site-packages/sklearn/linear_model/logistic.py:433: FutureWarning: Default solver will be changed to 'lbfgs' in 0.22. Specify a solver to silence this warning.\n",
      "  FutureWarning)\n",
      "/anaconda3/lib/python3.7/site-packages/sklearn/linear_model/logistic.py:433: FutureWarning: Default solver will be changed to 'lbfgs' in 0.22. Specify a solver to silence this warning.\n",
      "  FutureWarning)\n",
      "/anaconda3/lib/python3.7/site-packages/sklearn/linear_model/logistic.py:433: FutureWarning: Default solver will be changed to 'lbfgs' in 0.22. Specify a solver to silence this warning.\n",
      "  FutureWarning)\n",
      "/anaconda3/lib/python3.7/site-packages/sklearn/linear_model/logistic.py:433: FutureWarning: Default solver will be changed to 'lbfgs' in 0.22. Specify a solver to silence this warning.\n",
      "  FutureWarning)\n",
      "/anaconda3/lib/python3.7/site-packages/sklearn/linear_model/logistic.py:433: FutureWarning: Default solver will be changed to 'lbfgs' in 0.22. Specify a solver to silence this warning.\n",
      "  FutureWarning)\n",
      "/anaconda3/lib/python3.7/site-packages/sklearn/linear_model/logistic.py:433: FutureWarning: Default solver will be changed to 'lbfgs' in 0.22. Specify a solver to silence this warning.\n",
      "  FutureWarning)\n",
      "/anaconda3/lib/python3.7/site-packages/sklearn/linear_model/logistic.py:433: FutureWarning: Default solver will be changed to 'lbfgs' in 0.22. Specify a solver to silence this warning.\n",
      "  FutureWarning)\n",
      "/anaconda3/lib/python3.7/site-packages/sklearn/linear_model/logistic.py:433: FutureWarning: Default solver will be changed to 'lbfgs' in 0.22. Specify a solver to silence this warning.\n",
      "  FutureWarning)\n",
      "/anaconda3/lib/python3.7/site-packages/sklearn/linear_model/logistic.py:433: FutureWarning: Default solver will be changed to 'lbfgs' in 0.22. Specify a solver to silence this warning.\n",
      "  FutureWarning)\n",
      "/anaconda3/lib/python3.7/site-packages/sklearn/linear_model/logistic.py:433: FutureWarning: Default solver will be changed to 'lbfgs' in 0.22. Specify a solver to silence this warning.\n",
      "  FutureWarning)\n",
      "/anaconda3/lib/python3.7/site-packages/sklearn/linear_model/logistic.py:433: FutureWarning: Default solver will be changed to 'lbfgs' in 0.22. Specify a solver to silence this warning.\n",
      "  FutureWarning)\n",
      "/anaconda3/lib/python3.7/site-packages/sklearn/linear_model/logistic.py:433: FutureWarning: Default solver will be changed to 'lbfgs' in 0.22. Specify a solver to silence this warning.\n",
      "  FutureWarning)\n",
      "/anaconda3/lib/python3.7/site-packages/sklearn/linear_model/logistic.py:433: FutureWarning: Default solver will be changed to 'lbfgs' in 0.22. Specify a solver to silence this warning.\n",
      "  FutureWarning)\n",
      "/anaconda3/lib/python3.7/site-packages/sklearn/linear_model/logistic.py:433: FutureWarning: Default solver will be changed to 'lbfgs' in 0.22. Specify a solver to silence this warning.\n",
      "  FutureWarning)\n",
      "/anaconda3/lib/python3.7/site-packages/sklearn/linear_model/logistic.py:433: FutureWarning: Default solver will be changed to 'lbfgs' in 0.22. Specify a solver to silence this warning.\n",
      "  FutureWarning)\n",
      "/anaconda3/lib/python3.7/site-packages/sklearn/linear_model/logistic.py:433: FutureWarning: Default solver will be changed to 'lbfgs' in 0.22. Specify a solver to silence this warning.\n",
      "  FutureWarning)\n",
      "/anaconda3/lib/python3.7/site-packages/sklearn/linear_model/logistic.py:433: FutureWarning: Default solver will be changed to 'lbfgs' in 0.22. Specify a solver to silence this warning.\n",
      "  FutureWarning)\n",
      "/anaconda3/lib/python3.7/site-packages/sklearn/linear_model/logistic.py:433: FutureWarning: Default solver will be changed to 'lbfgs' in 0.22. Specify a solver to silence this warning.\n",
      "  FutureWarning)\n",
      "/anaconda3/lib/python3.7/site-packages/sklearn/linear_model/logistic.py:433: FutureWarning: Default solver will be changed to 'lbfgs' in 0.22. Specify a solver to silence this warning.\n",
      "  FutureWarning)\n",
      "/anaconda3/lib/python3.7/site-packages/sklearn/linear_model/logistic.py:433: FutureWarning: Default solver will be changed to 'lbfgs' in 0.22. Specify a solver to silence this warning.\n",
      "  FutureWarning)\n",
      "/anaconda3/lib/python3.7/site-packages/sklearn/linear_model/logistic.py:433: FutureWarning: Default solver will be changed to 'lbfgs' in 0.22. Specify a solver to silence this warning.\n",
      "  FutureWarning)\n",
      "/anaconda3/lib/python3.7/site-packages/sklearn/linear_model/logistic.py:433: FutureWarning: Default solver will be changed to 'lbfgs' in 0.22. Specify a solver to silence this warning.\n",
      "  FutureWarning)\n",
      "/anaconda3/lib/python3.7/site-packages/sklearn/linear_model/logistic.py:433: FutureWarning: Default solver will be changed to 'lbfgs' in 0.22. Specify a solver to silence this warning.\n",
      "  FutureWarning)\n",
      "/anaconda3/lib/python3.7/site-packages/sklearn/linear_model/logistic.py:433: FutureWarning: Default solver will be changed to 'lbfgs' in 0.22. Specify a solver to silence this warning.\n",
      "  FutureWarning)\n",
      "/anaconda3/lib/python3.7/site-packages/sklearn/linear_model/logistic.py:433: FutureWarning: Default solver will be changed to 'lbfgs' in 0.22. Specify a solver to silence this warning.\n",
      "  FutureWarning)\n",
      "/anaconda3/lib/python3.7/site-packages/sklearn/linear_model/logistic.py:433: FutureWarning: Default solver will be changed to 'lbfgs' in 0.22. Specify a solver to silence this warning.\n",
      "  FutureWarning)\n",
      "/anaconda3/lib/python3.7/site-packages/sklearn/linear_model/logistic.py:433: FutureWarning: Default solver will be changed to 'lbfgs' in 0.22. Specify a solver to silence this warning.\n",
      "  FutureWarning)\n",
      "/anaconda3/lib/python3.7/site-packages/sklearn/linear_model/logistic.py:433: FutureWarning: Default solver will be changed to 'lbfgs' in 0.22. Specify a solver to silence this warning.\n",
      "  FutureWarning)\n",
      "/anaconda3/lib/python3.7/site-packages/sklearn/linear_model/logistic.py:433: FutureWarning: Default solver will be changed to 'lbfgs' in 0.22. Specify a solver to silence this warning.\n",
      "  FutureWarning)\n",
      "/anaconda3/lib/python3.7/site-packages/sklearn/linear_model/logistic.py:433: FutureWarning: Default solver will be changed to 'lbfgs' in 0.22. Specify a solver to silence this warning.\n",
      "  FutureWarning)\n",
      "/anaconda3/lib/python3.7/site-packages/sklearn/linear_model/logistic.py:433: FutureWarning: Default solver will be changed to 'lbfgs' in 0.22. Specify a solver to silence this warning.\n",
      "  FutureWarning)\n",
      "/anaconda3/lib/python3.7/site-packages/sklearn/linear_model/logistic.py:433: FutureWarning: Default solver will be changed to 'lbfgs' in 0.22. Specify a solver to silence this warning.\n",
      "  FutureWarning)\n",
      "/anaconda3/lib/python3.7/site-packages/sklearn/linear_model/logistic.py:433: FutureWarning: Default solver will be changed to 'lbfgs' in 0.22. Specify a solver to silence this warning.\n",
      "  FutureWarning)\n",
      "/anaconda3/lib/python3.7/site-packages/sklearn/linear_model/logistic.py:433: FutureWarning: Default solver will be changed to 'lbfgs' in 0.22. Specify a solver to silence this warning.\n",
      "  FutureWarning)\n",
      "/anaconda3/lib/python3.7/site-packages/sklearn/linear_model/logistic.py:433: FutureWarning: Default solver will be changed to 'lbfgs' in 0.22. Specify a solver to silence this warning.\n",
      "  FutureWarning)\n"
     ]
    },
    {
     "name": "stderr",
     "output_type": "stream",
     "text": [
      "/anaconda3/lib/python3.7/site-packages/sklearn/linear_model/logistic.py:433: FutureWarning: Default solver will be changed to 'lbfgs' in 0.22. Specify a solver to silence this warning.\n",
      "  FutureWarning)\n",
      "/anaconda3/lib/python3.7/site-packages/sklearn/linear_model/logistic.py:433: FutureWarning: Default solver will be changed to 'lbfgs' in 0.22. Specify a solver to silence this warning.\n",
      "  FutureWarning)\n",
      "/anaconda3/lib/python3.7/site-packages/sklearn/linear_model/logistic.py:433: FutureWarning: Default solver will be changed to 'lbfgs' in 0.22. Specify a solver to silence this warning.\n",
      "  FutureWarning)\n",
      "/anaconda3/lib/python3.7/site-packages/sklearn/linear_model/logistic.py:433: FutureWarning: Default solver will be changed to 'lbfgs' in 0.22. Specify a solver to silence this warning.\n",
      "  FutureWarning)\n",
      "/anaconda3/lib/python3.7/site-packages/sklearn/linear_model/logistic.py:433: FutureWarning: Default solver will be changed to 'lbfgs' in 0.22. Specify a solver to silence this warning.\n",
      "  FutureWarning)\n",
      "/anaconda3/lib/python3.7/site-packages/sklearn/linear_model/logistic.py:433: FutureWarning: Default solver will be changed to 'lbfgs' in 0.22. Specify a solver to silence this warning.\n",
      "  FutureWarning)\n",
      "/anaconda3/lib/python3.7/site-packages/sklearn/linear_model/logistic.py:433: FutureWarning: Default solver will be changed to 'lbfgs' in 0.22. Specify a solver to silence this warning.\n",
      "  FutureWarning)\n",
      "/anaconda3/lib/python3.7/site-packages/sklearn/linear_model/logistic.py:433: FutureWarning: Default solver will be changed to 'lbfgs' in 0.22. Specify a solver to silence this warning.\n",
      "  FutureWarning)\n",
      "/anaconda3/lib/python3.7/site-packages/sklearn/linear_model/logistic.py:433: FutureWarning: Default solver will be changed to 'lbfgs' in 0.22. Specify a solver to silence this warning.\n",
      "  FutureWarning)\n",
      "/anaconda3/lib/python3.7/site-packages/sklearn/linear_model/logistic.py:433: FutureWarning: Default solver will be changed to 'lbfgs' in 0.22. Specify a solver to silence this warning.\n",
      "  FutureWarning)\n",
      "/anaconda3/lib/python3.7/site-packages/sklearn/linear_model/logistic.py:433: FutureWarning: Default solver will be changed to 'lbfgs' in 0.22. Specify a solver to silence this warning.\n",
      "  FutureWarning)\n",
      "/anaconda3/lib/python3.7/site-packages/sklearn/linear_model/logistic.py:433: FutureWarning: Default solver will be changed to 'lbfgs' in 0.22. Specify a solver to silence this warning.\n",
      "  FutureWarning)\n",
      "/anaconda3/lib/python3.7/site-packages/sklearn/linear_model/logistic.py:433: FutureWarning: Default solver will be changed to 'lbfgs' in 0.22. Specify a solver to silence this warning.\n",
      "  FutureWarning)\n",
      "/anaconda3/lib/python3.7/site-packages/sklearn/linear_model/logistic.py:433: FutureWarning: Default solver will be changed to 'lbfgs' in 0.22. Specify a solver to silence this warning.\n",
      "  FutureWarning)\n",
      "/anaconda3/lib/python3.7/site-packages/sklearn/linear_model/logistic.py:433: FutureWarning: Default solver will be changed to 'lbfgs' in 0.22. Specify a solver to silence this warning.\n",
      "  FutureWarning)\n",
      "/anaconda3/lib/python3.7/site-packages/sklearn/linear_model/logistic.py:433: FutureWarning: Default solver will be changed to 'lbfgs' in 0.22. Specify a solver to silence this warning.\n",
      "  FutureWarning)\n",
      "/anaconda3/lib/python3.7/site-packages/sklearn/linear_model/logistic.py:433: FutureWarning: Default solver will be changed to 'lbfgs' in 0.22. Specify a solver to silence this warning.\n",
      "  FutureWarning)\n",
      "/anaconda3/lib/python3.7/site-packages/sklearn/linear_model/logistic.py:433: FutureWarning: Default solver will be changed to 'lbfgs' in 0.22. Specify a solver to silence this warning.\n",
      "  FutureWarning)\n",
      "/anaconda3/lib/python3.7/site-packages/sklearn/linear_model/logistic.py:433: FutureWarning: Default solver will be changed to 'lbfgs' in 0.22. Specify a solver to silence this warning.\n",
      "  FutureWarning)\n"
     ]
    }
   ],
   "source": [
    "best_model = grid.fit(X_ada2, y_ada2)"
   ]
  },
  {
   "cell_type": "code",
   "execution_count": 170,
   "metadata": {},
   "outputs": [
    {
     "name": "stdout",
     "output_type": "stream",
     "text": [
      "Best Penalty: l1\n",
      "Best C: 7.742636826811269\n"
     ]
    }
   ],
   "source": [
    "print('Best Penalty:', best_model.best_estimator_.get_params()['penalty'])\n",
    "print('Best C:', best_model.best_estimator_.get_params()['C'])"
   ]
  },
  {
   "cell_type": "code",
   "execution_count": 183,
   "metadata": {},
   "outputs": [
    {
     "data": {
      "text/plain": [
       "array([[0.38523545, 0.61476455],\n",
       "       [0.40382034, 0.59617966],\n",
       "       [0.5913673 , 0.4086327 ],\n",
       "       ...,\n",
       "       [0.43476452, 0.56523548],\n",
       "       [0.53025968, 0.46974032],\n",
       "       [0.39791515, 0.60208485]])"
      ]
     },
     "execution_count": 183,
     "metadata": {},
     "output_type": "execute_result"
    }
   ],
   "source": [
    "best_model.predict_proba(X_ada2)"
   ]
  },
  {
   "cell_type": "code",
   "execution_count": 184,
   "metadata": {},
   "outputs": [
    {
     "name": "stdout",
     "output_type": "stream",
     "text": [
      "              precision    recall  f1-score   support\n",
      "\n",
      "           0       0.78      0.55      0.64      9865\n",
      "           1       0.36      0.62      0.45      3997\n",
      "\n",
      "   micro avg       0.57      0.57      0.57     13862\n",
      "   macro avg       0.57      0.58      0.55     13862\n",
      "weighted avg       0.66      0.57      0.59     13862\n",
      "\n"
     ]
    }
   ],
   "source": [
    "print(classification_report(y_test2, best_model.predict(X_test2)))"
   ]
  },
  {
   "cell_type": "code",
   "execution_count": 185,
   "metadata": {},
   "outputs": [],
   "source": [
    "from sklearn.metrics import fbeta_score"
   ]
  },
  {
   "cell_type": "code",
   "execution_count": 191,
   "metadata": {},
   "outputs": [],
   "source": [
    "def get_scores(clf, X_ada2, y_ada2, X_test2, y_test2):\n",
    "    clf.fit(X_ada2, y_ada2)\n",
    "    app = dict()\n",
    "    score = fbeta_score(y_test2, clf.predict(X_test2), beta=.25, average=None)\n",
    "    #avg_sample_score = fbeta_score(y_test, clf.predict(X_test2), beta=.25, average='samples')\n",
    "    #prec_score = precision_score(y_test, clf.predict(X_test2), average='micro')\n",
    "    #rec_score = recall_score(y_test, clf.predict(X_test2), average='micro')\n",
    "    #avg_prec = average_precision_score(y_test2, clf.predict(X_test2))\n",
    "    #metrics = [score, avg_sample_score, roc_auc_score(y_test2, clf.predict_proba(X_test2))]\n",
    "    #app['Classwise Scores'] = ([(mlb.classes_[l], score[l]) for l in score.argsort()[::-1]])\n",
    "    #app['F2 Score'] = avg_sample_score\n",
    "    #app['ROC_AUC'] = roc_auc_score(y_test2, clf.predict_proba(X_test2))\n",
    "    #app['P_AUPR'] = avg_prec\n",
    "    #app['Precision'] = prec_score\n",
    "    #app['Recall'] = rec_score\n",
    "    return app "
   ]
  },
  {
   "cell_type": "code",
   "execution_count": 193,
   "metadata": {},
   "outputs": [
    {
     "data": {
      "text/plain": [
       "array([0.75967733, 0.3642741 ])"
      ]
     },
     "execution_count": 193,
     "metadata": {},
     "output_type": "execute_result"
    }
   ],
   "source": [
    "fbeta_score(y_test2, best_model.predict(X_test2), beta = .25, average=None)"
   ]
  },
  {
   "cell_type": "code",
   "execution_count": 194,
   "metadata": {},
   "outputs": [
    {
     "data": {
      "text/html": [
       "<div>\n",
       "<style scoped>\n",
       "    .dataframe tbody tr th:only-of-type {\n",
       "        vertical-align: middle;\n",
       "    }\n",
       "\n",
       "    .dataframe tbody tr th {\n",
       "        vertical-align: top;\n",
       "    }\n",
       "\n",
       "    .dataframe thead th {\n",
       "        text-align: right;\n",
       "    }\n",
       "</style>\n",
       "<table border=\"1\" class=\"dataframe\">\n",
       "  <thead>\n",
       "    <tr style=\"text-align: right;\">\n",
       "      <th></th>\n",
       "      <th>index</th>\n",
       "      <th>Coefs</th>\n",
       "      <th>Features</th>\n",
       "      <th>Importance</th>\n",
       "    </tr>\n",
       "  </thead>\n",
       "  <tbody>\n",
       "    <tr>\n",
       "      <th>0</th>\n",
       "      <td>21</td>\n",
       "      <td>-0.252490</td>\n",
       "      <td>months</td>\n",
       "      <td>0.056912</td>\n",
       "    </tr>\n",
       "    <tr>\n",
       "      <th>1</th>\n",
       "      <td>1</td>\n",
       "      <td>-0.183467</td>\n",
       "      <td>mou</td>\n",
       "      <td>0.038312</td>\n",
       "    </tr>\n",
       "    <tr>\n",
       "      <th>2</th>\n",
       "      <td>31</td>\n",
       "      <td>-0.162560</td>\n",
       "      <td>creditaa</td>\n",
       "      <td>0.007454</td>\n",
       "    </tr>\n",
       "    <tr>\n",
       "      <th>3</th>\n",
       "      <td>6</td>\n",
       "      <td>-0.155034</td>\n",
       "      <td>changem</td>\n",
       "      <td>0.038387</td>\n",
       "    </tr>\n",
       "    <tr>\n",
       "      <th>4</th>\n",
       "      <td>23</td>\n",
       "      <td>-0.132747</td>\n",
       "      <td>actvsubs</td>\n",
       "      <td>0.012316</td>\n",
       "    </tr>\n",
       "    <tr>\n",
       "      <th>5</th>\n",
       "      <td>27</td>\n",
       "      <td>-0.125645</td>\n",
       "      <td>age1</td>\n",
       "      <td>0.024942</td>\n",
       "    </tr>\n",
       "    <tr>\n",
       "      <th>6</th>\n",
       "      <td>18</td>\n",
       "      <td>-0.093901</td>\n",
       "      <td>dropblk</td>\n",
       "      <td>0.027175</td>\n",
       "    </tr>\n",
       "    <tr>\n",
       "      <th>7</th>\n",
       "      <td>50</td>\n",
       "      <td>-0.088608</td>\n",
       "      <td>mailres</td>\n",
       "      <td>0.004710</td>\n",
       "    </tr>\n",
       "    <tr>\n",
       "      <th>8</th>\n",
       "      <td>16</td>\n",
       "      <td>-0.081472</td>\n",
       "      <td>peakvce</td>\n",
       "      <td>0.032044</td>\n",
       "    </tr>\n",
       "    <tr>\n",
       "      <th>9</th>\n",
       "      <td>30</td>\n",
       "      <td>-0.081244</td>\n",
       "      <td>credita</td>\n",
       "      <td>0.004278</td>\n",
       "    </tr>\n",
       "    <tr>\n",
       "      <th>10</th>\n",
       "      <td>63</td>\n",
       "      <td>-0.078945</td>\n",
       "      <td>setprcm</td>\n",
       "      <td>0.005529</td>\n",
       "    </tr>\n",
       "    <tr>\n",
       "      <th>11</th>\n",
       "      <td>17</td>\n",
       "      <td>-0.053766</td>\n",
       "      <td>opeakvce</td>\n",
       "      <td>0.030622</td>\n",
       "    </tr>\n",
       "    <tr>\n",
       "      <th>12</th>\n",
       "      <td>12</td>\n",
       "      <td>-0.052651</td>\n",
       "      <td>threeway</td>\n",
       "      <td>0.021477</td>\n",
       "    </tr>\n",
       "    <tr>\n",
       "      <th>13</th>\n",
       "      <td>57</td>\n",
       "      <td>-0.052184</td>\n",
       "      <td>newcelly</td>\n",
       "      <td>0.006422</td>\n",
       "    </tr>\n",
       "    <tr>\n",
       "      <th>14</th>\n",
       "      <td>2</td>\n",
       "      <td>-0.049222</td>\n",
       "      <td>recchrge</td>\n",
       "      <td>0.037057</td>\n",
       "    </tr>\n",
       "    <tr>\n",
       "      <th>15</th>\n",
       "      <td>59</td>\n",
       "      <td>-0.042923</td>\n",
       "      <td>refer</td>\n",
       "      <td>0.002490</td>\n",
       "    </tr>\n",
       "    <tr>\n",
       "      <th>16</th>\n",
       "      <td>11</td>\n",
       "      <td>-0.042479</td>\n",
       "      <td>custcare</td>\n",
       "      <td>0.021429</td>\n",
       "    </tr>\n",
       "    <tr>\n",
       "      <th>17</th>\n",
       "      <td>15</td>\n",
       "      <td>-0.038182</td>\n",
       "      <td>incalls</td>\n",
       "      <td>0.025247</td>\n",
       "    </tr>\n",
       "    <tr>\n",
       "      <th>18</th>\n",
       "      <td>33</td>\n",
       "      <td>-0.036808</td>\n",
       "      <td>prizmub</td>\n",
       "      <td>0.008704</td>\n",
       "    </tr>\n",
       "    <tr>\n",
       "      <th>19</th>\n",
       "      <td>56</td>\n",
       "      <td>-0.032108</td>\n",
       "      <td>retaccpt</td>\n",
       "      <td>0.000956</td>\n",
       "    </tr>\n",
       "    <tr>\n",
       "      <th>20</th>\n",
       "      <td>28</td>\n",
       "      <td>-0.032085</td>\n",
       "      <td>age2</td>\n",
       "      <td>0.018835</td>\n",
       "    </tr>\n",
       "    <tr>\n",
       "      <th>21</th>\n",
       "      <td>36</td>\n",
       "      <td>-0.026937</td>\n",
       "      <td>webcap</td>\n",
       "      <td>0.004386</td>\n",
       "    </tr>\n",
       "    <tr>\n",
       "      <th>22</th>\n",
       "      <td>39</td>\n",
       "      <td>-0.024218</td>\n",
       "      <td>occprof</td>\n",
       "      <td>0.004327</td>\n",
       "    </tr>\n",
       "    <tr>\n",
       "      <th>23</th>\n",
       "      <td>58</td>\n",
       "      <td>-0.022853</td>\n",
       "      <td>newcelln</td>\n",
       "      <td>0.004747</td>\n",
       "    </tr>\n",
       "    <tr>\n",
       "      <th>24</th>\n",
       "      <td>37</td>\n",
       "      <td>-0.016218</td>\n",
       "      <td>truck</td>\n",
       "      <td>0.004548</td>\n",
       "    </tr>\n",
       "    <tr>\n",
       "      <th>25</th>\n",
       "      <td>53</td>\n",
       "      <td>-0.014573</td>\n",
       "      <td>pcown</td>\n",
       "      <td>0.004800</td>\n",
       "    </tr>\n",
       "    <tr>\n",
       "      <th>26</th>\n",
       "      <td>44</td>\n",
       "      <td>-0.013220</td>\n",
       "      <td>occret</td>\n",
       "      <td>0.000805</td>\n",
       "    </tr>\n",
       "    <tr>\n",
       "      <th>27</th>\n",
       "      <td>61</td>\n",
       "      <td>-0.012929</td>\n",
       "      <td>income</td>\n",
       "      <td>0.026812</td>\n",
       "    </tr>\n",
       "    <tr>\n",
       "      <th>28</th>\n",
       "      <td>19</td>\n",
       "      <td>-0.012337</td>\n",
       "      <td>callfwdv</td>\n",
       "      <td>0.000380</td>\n",
       "    </tr>\n",
       "    <tr>\n",
       "      <th>29</th>\n",
       "      <td>3</td>\n",
       "      <td>-0.011414</td>\n",
       "      <td>directas</td>\n",
       "      <td>0.037868</td>\n",
       "    </tr>\n",
       "    <tr>\n",
       "      <th>...</th>\n",
       "      <td>...</td>\n",
       "      <td>...</td>\n",
       "      <td>...</td>\n",
       "      <td>...</td>\n",
       "    </tr>\n",
       "    <tr>\n",
       "      <th>36</th>\n",
       "      <td>46</td>\n",
       "      <td>0.006447</td>\n",
       "      <td>ownrent</td>\n",
       "      <td>0.004364</td>\n",
       "    </tr>\n",
       "    <tr>\n",
       "      <th>37</th>\n",
       "      <td>42</td>\n",
       "      <td>0.007083</td>\n",
       "      <td>occstud</td>\n",
       "      <td>0.000566</td>\n",
       "    </tr>\n",
       "    <tr>\n",
       "      <th>38</th>\n",
       "      <td>32</td>\n",
       "      <td>0.008923</td>\n",
       "      <td>prizmrur</td>\n",
       "      <td>0.002272</td>\n",
       "    </tr>\n",
       "    <tr>\n",
       "      <th>39</th>\n",
       "      <td>38</td>\n",
       "      <td>0.010744</td>\n",
       "      <td>rv</td>\n",
       "      <td>0.002739</td>\n",
       "    </tr>\n",
       "    <tr>\n",
       "      <th>40</th>\n",
       "      <td>40</td>\n",
       "      <td>0.011289</td>\n",
       "      <td>occcler</td>\n",
       "      <td>0.001228</td>\n",
       "    </tr>\n",
       "    <tr>\n",
       "      <th>41</th>\n",
       "      <td>60</td>\n",
       "      <td>0.011543</td>\n",
       "      <td>incmiss</td>\n",
       "      <td>0.002962</td>\n",
       "    </tr>\n",
       "    <tr>\n",
       "      <th>42</th>\n",
       "      <td>62</td>\n",
       "      <td>0.011925</td>\n",
       "      <td>mcycle</td>\n",
       "      <td>0.000923</td>\n",
       "    </tr>\n",
       "    <tr>\n",
       "      <th>43</th>\n",
       "      <td>49</td>\n",
       "      <td>0.018195</td>\n",
       "      <td>mailord</td>\n",
       "      <td>0.004749</td>\n",
       "    </tr>\n",
       "    <tr>\n",
       "      <th>44</th>\n",
       "      <td>64</td>\n",
       "      <td>0.018321</td>\n",
       "      <td>setprc</td>\n",
       "      <td>0.016069</td>\n",
       "    </tr>\n",
       "    <tr>\n",
       "      <th>45</th>\n",
       "      <td>47</td>\n",
       "      <td>0.026836</td>\n",
       "      <td>marryun</td>\n",
       "      <td>0.006259</td>\n",
       "    </tr>\n",
       "    <tr>\n",
       "      <th>46</th>\n",
       "      <td>0</td>\n",
       "      <td>0.027271</td>\n",
       "      <td>revenue</td>\n",
       "      <td>0.034463</td>\n",
       "    </tr>\n",
       "    <tr>\n",
       "      <th>47</th>\n",
       "      <td>20</td>\n",
       "      <td>0.030289</td>\n",
       "      <td>callwait</td>\n",
       "      <td>0.023240</td>\n",
       "    </tr>\n",
       "    <tr>\n",
       "      <th>48</th>\n",
       "      <td>24</td>\n",
       "      <td>0.033581</td>\n",
       "      <td>phones</td>\n",
       "      <td>0.014630</td>\n",
       "    </tr>\n",
       "    <tr>\n",
       "      <th>49</th>\n",
       "      <td>13</td>\n",
       "      <td>0.035305</td>\n",
       "      <td>mourec</td>\n",
       "      <td>0.030112</td>\n",
       "    </tr>\n",
       "    <tr>\n",
       "      <th>50</th>\n",
       "      <td>5</td>\n",
       "      <td>0.037172</td>\n",
       "      <td>roam</td>\n",
       "      <td>0.026166</td>\n",
       "    </tr>\n",
       "    <tr>\n",
       "      <th>51</th>\n",
       "      <td>10</td>\n",
       "      <td>0.038041</td>\n",
       "      <td>unansvce</td>\n",
       "      <td>0.029971</td>\n",
       "    </tr>\n",
       "    <tr>\n",
       "      <th>52</th>\n",
       "      <td>14</td>\n",
       "      <td>0.043938</td>\n",
       "      <td>outcalls</td>\n",
       "      <td>0.029069</td>\n",
       "    </tr>\n",
       "    <tr>\n",
       "      <th>53</th>\n",
       "      <td>25</td>\n",
       "      <td>0.045152</td>\n",
       "      <td>models</td>\n",
       "      <td>0.015092</td>\n",
       "    </tr>\n",
       "    <tr>\n",
       "      <th>54</th>\n",
       "      <td>29</td>\n",
       "      <td>0.048146</td>\n",
       "      <td>children</td>\n",
       "      <td>0.005702</td>\n",
       "    </tr>\n",
       "    <tr>\n",
       "      <th>55</th>\n",
       "      <td>48</td>\n",
       "      <td>0.060551</td>\n",
       "      <td>marryyes</td>\n",
       "      <td>0.005840</td>\n",
       "    </tr>\n",
       "    <tr>\n",
       "      <th>56</th>\n",
       "      <td>55</td>\n",
       "      <td>0.066773</td>\n",
       "      <td>retcalls</td>\n",
       "      <td>0.002218</td>\n",
       "    </tr>\n",
       "    <tr>\n",
       "      <th>57</th>\n",
       "      <td>35</td>\n",
       "      <td>0.072844</td>\n",
       "      <td>refurb</td>\n",
       "      <td>0.006251</td>\n",
       "    </tr>\n",
       "    <tr>\n",
       "      <th>58</th>\n",
       "      <td>54</td>\n",
       "      <td>0.082339</td>\n",
       "      <td>creditcd</td>\n",
       "      <td>0.004216</td>\n",
       "    </tr>\n",
       "    <tr>\n",
       "      <th>59</th>\n",
       "      <td>9</td>\n",
       "      <td>0.089048</td>\n",
       "      <td>blckvce</td>\n",
       "      <td>0.031485</td>\n",
       "    </tr>\n",
       "    <tr>\n",
       "      <th>60</th>\n",
       "      <td>65</td>\n",
       "      <td>0.092596</td>\n",
       "      <td>retcall</td>\n",
       "      <td>0.002349</td>\n",
       "    </tr>\n",
       "    <tr>\n",
       "      <th>61</th>\n",
       "      <td>4</td>\n",
       "      <td>0.107218</td>\n",
       "      <td>overage</td>\n",
       "      <td>0.031715</td>\n",
       "    </tr>\n",
       "    <tr>\n",
       "      <th>62</th>\n",
       "      <td>7</td>\n",
       "      <td>0.115225</td>\n",
       "      <td>changer</td>\n",
       "      <td>0.033972</td>\n",
       "    </tr>\n",
       "    <tr>\n",
       "      <th>63</th>\n",
       "      <td>22</td>\n",
       "      <td>0.127307</td>\n",
       "      <td>uniqsubs</td>\n",
       "      <td>0.024566</td>\n",
       "    </tr>\n",
       "    <tr>\n",
       "      <th>64</th>\n",
       "      <td>8</td>\n",
       "      <td>0.128406</td>\n",
       "      <td>dropvce</td>\n",
       "      <td>0.028595</td>\n",
       "    </tr>\n",
       "    <tr>\n",
       "      <th>65</th>\n",
       "      <td>26</td>\n",
       "      <td>0.393943</td>\n",
       "      <td>eqpdays</td>\n",
       "      <td>0.053342</td>\n",
       "    </tr>\n",
       "  </tbody>\n",
       "</table>\n",
       "<p>66 rows × 4 columns</p>\n",
       "</div>"
      ],
      "text/plain": [
       "    index     Coefs  Features  Importance\n",
       "0      21 -0.252490    months    0.056912\n",
       "1       1 -0.183467       mou    0.038312\n",
       "2      31 -0.162560  creditaa    0.007454\n",
       "3       6 -0.155034   changem    0.038387\n",
       "4      23 -0.132747  actvsubs    0.012316\n",
       "5      27 -0.125645      age1    0.024942\n",
       "6      18 -0.093901   dropblk    0.027175\n",
       "7      50 -0.088608   mailres    0.004710\n",
       "8      16 -0.081472   peakvce    0.032044\n",
       "9      30 -0.081244   credita    0.004278\n",
       "10     63 -0.078945   setprcm    0.005529\n",
       "11     17 -0.053766  opeakvce    0.030622\n",
       "12     12 -0.052651  threeway    0.021477\n",
       "13     57 -0.052184  newcelly    0.006422\n",
       "14      2 -0.049222  recchrge    0.037057\n",
       "15     59 -0.042923     refer    0.002490\n",
       "16     11 -0.042479  custcare    0.021429\n",
       "17     15 -0.038182   incalls    0.025247\n",
       "18     33 -0.036808   prizmub    0.008704\n",
       "19     56 -0.032108  retaccpt    0.000956\n",
       "20     28 -0.032085      age2    0.018835\n",
       "21     36 -0.026937    webcap    0.004386\n",
       "22     39 -0.024218   occprof    0.004327\n",
       "23     58 -0.022853  newcelln    0.004747\n",
       "24     37 -0.016218     truck    0.004548\n",
       "25     53 -0.014573     pcown    0.004800\n",
       "26     44 -0.013220    occret    0.000805\n",
       "27     61 -0.012929    income    0.026812\n",
       "28     19 -0.012337  callfwdv    0.000380\n",
       "29      3 -0.011414  directas    0.037868\n",
       "..    ...       ...       ...         ...\n",
       "36     46  0.006447   ownrent    0.004364\n",
       "37     42  0.007083   occstud    0.000566\n",
       "38     32  0.008923  prizmrur    0.002272\n",
       "39     38  0.010744        rv    0.002739\n",
       "40     40  0.011289   occcler    0.001228\n",
       "41     60  0.011543   incmiss    0.002962\n",
       "42     62  0.011925    mcycle    0.000923\n",
       "43     49  0.018195   mailord    0.004749\n",
       "44     64  0.018321    setprc    0.016069\n",
       "45     47  0.026836   marryun    0.006259\n",
       "46      0  0.027271   revenue    0.034463\n",
       "47     20  0.030289  callwait    0.023240\n",
       "48     24  0.033581    phones    0.014630\n",
       "49     13  0.035305    mourec    0.030112\n",
       "50      5  0.037172      roam    0.026166\n",
       "51     10  0.038041  unansvce    0.029971\n",
       "52     14  0.043938  outcalls    0.029069\n",
       "53     25  0.045152    models    0.015092\n",
       "54     29  0.048146  children    0.005702\n",
       "55     48  0.060551  marryyes    0.005840\n",
       "56     55  0.066773  retcalls    0.002218\n",
       "57     35  0.072844    refurb    0.006251\n",
       "58     54  0.082339  creditcd    0.004216\n",
       "59      9  0.089048   blckvce    0.031485\n",
       "60     65  0.092596   retcall    0.002349\n",
       "61      4  0.107218   overage    0.031715\n",
       "62      7  0.115225   changer    0.033972\n",
       "63     22  0.127307  uniqsubs    0.024566\n",
       "64      8  0.128406   dropvce    0.028595\n",
       "65     26  0.393943   eqpdays    0.053342\n",
       "\n",
       "[66 rows x 4 columns]"
      ]
     },
     "execution_count": 194,
     "metadata": {},
     "output_type": "execute_result"
    }
   ],
   "source": [
    "features_df"
   ]
  },
  {
   "cell_type": "code",
   "execution_count": 195,
   "metadata": {},
   "outputs": [],
   "source": [
    "features_df.to_csv(r'features.csv')"
   ]
  },
  {
   "cell_type": "code",
   "execution_count": 199,
   "metadata": {},
   "outputs": [],
   "source": [
    "from yellowbrick.classifier import DiscriminationThreshold\n",
    "from sklearn.pipeline import make_pipeline"
   ]
  },
  {
   "cell_type": "code",
   "execution_count": null,
   "metadata": {},
   "outputs": [],
   "source": []
  },
  {
   "cell_type": "code",
   "execution_count": 210,
   "metadata": {},
   "outputs": [
    {
     "data": {
      "image/png": "[encoded data removed]",
      "text/plain": [
       "<Figure size 640x440 with 1 Axes>"
      ]
     },
     "metadata": {},
     "output_type": "display_data"
    }
   ],
   "source": [
    "precision_curve, recall_curve, threshold_curve = precision_recall_curve(y_test2, best_model.predict_proba(X_test2)[:,1] )\n",
    "\n",
    "plt.figure(dpi=80)\n",
    "plt.plot(threshold_curve, precision_curve[1:],label='precision')\n",
    "plt.plot(threshold_curve, recall_curve[1:], label='recall')\n",
    "plt.legend(loc='lower left')\n",
    "plt.xlabel('Threshold (above this probability, label as churn)');\n",
    "plt.title('Precision and Recall Curves');"
   ]
  },
  {
   "cell_type": "code",
   "execution_count": 217,
   "metadata": {},
   "outputs": [
    {
     "data": {
      "image/png": "[encoded data removed]",
      "text/plain": [
       "<Figure size 640x440 with 1 Axes>"
      ]
     },
     "metadata": {},
     "output_type": "display_data"
    }
   ],
   "source": [
    "plt.figure(dpi=80)\n",
    "plt.plot(recall_curve[1:], precision_curve[1:],label='precision')\n",
    "plt.xlabel(\"Recall\")\n",
    "plt.ylabel(\"Precision\")\n",
    "plt.title(\"Precision-Recall Curve for Logistic Regression\");"
   ]
  },
  {
   "cell_type": "code",
   "execution_count": 216,
   "metadata": {},
   "outputs": [
    {
     "data": {
      "image/png": "[encoded data removed]",
      "text/plain": [
       "<Figure size 640x440 with 1 Axes>"
      ]
     },
     "metadata": {},
     "output_type": "display_data"
    }
   ],
   "source": [
    "precision_curve2, recall_curve2, threshold_curve2 = precision_recall_curve(y_test2, best_XGB.predict_proba(X_test2)[:,1] )\n",
    "\n",
    "plt.figure(dpi=80)\n",
    "plt.plot(threshold_curve, precision_curve[1:],label='precision')\n",
    "plt.plot(threshold_curve, recall_curve[1:], label='recall')\n",
    "plt.legend(loc='lower left')\n",
    "plt.xlabel('Threshold (above this probability, label as churn)');\n",
    "plt.title('Precision and Recall Curves for XGBoost');"
   ]
  },
  {
   "cell_type": "code",
   "execution_count": 215,
   "metadata": {},
   "outputs": [
    {
     "data": {
      "image/png": "[encoded data removed]",
      "text/plain": [
       "<Figure size 640x440 with 1 Axes>"
      ]
     },
     "metadata": {},
     "output_type": "display_data"
    }
   ],
   "source": [
    "plt.figure(dpi=80)\n",
    "plt.plot(recall_curve2[1:], precision_curve2[1:],label='precision')\n",
    "plt.xlabel(\"Recall\")\n",
    "plt.ylabel(\"Precision\")\n",
    "plt.title(\"Precision-Recall Curve\");"
   ]
  },
  {
   "cell_type": "code",
   "execution_count": 218,
   "metadata": {},
   "outputs": [
    {
     "data": {
      "text/plain": [
       "0.450763463472616"
      ]
     },
     "execution_count": 218,
     "metadata": {},
     "output_type": "execute_result"
    }
   ],
   "source": [
    "y_predict = best_model.predict(X_test2)\n",
    "f1_score(y_test2, y_predict)"
   ]
  },
  {
   "cell_type": "code",
   "execution_count": 220,
   "metadata": {},
   "outputs": [
    {
     "data": {
      "text/plain": [
       "0.3642741031146501"
      ]
     },
     "execution_count": 220,
     "metadata": {},
     "output_type": "execute_result"
    }
   ],
   "source": [
    "fbeta_score(y_test2, y_predict, beta = .25)"
   ]
  },
  {
   "cell_type": "code",
   "execution_count": 222,
   "metadata": {},
   "outputs": [
    {
     "data": {
      "text/plain": [
       "0.4217202329913367"
      ]
     },
     "execution_count": 222,
     "metadata": {},
     "output_type": "execute_result"
    }
   ],
   "source": [
    "y_predict2 = best_XGB.predict(X_test2)\n",
    "fbeta_score(y_test2, y_predict2, beta = .25)"
   ]
  },
  {
   "cell_type": "code",
   "execution_count": 223,
   "metadata": {},
   "outputs": [
    {
     "data": {
      "text/plain": [
       "0.28629926633680264"
      ]
     },
     "execution_count": 223,
     "metadata": {},
     "output_type": "execute_result"
    }
   ],
   "source": [
    "f1_score(y_test2, y_predict2)"
   ]
  },
  {
   "cell_type": "code",
   "execution_count": 224,
   "metadata": {},
   "outputs": [
    {
     "name": "stdout",
     "output_type": "stream",
     "text": [
      "The score for XGBoost is\n",
      "Training:  79.67%\n",
      "Test set:  70.89%\n",
      "XBGC matrix: \n",
      "\n",
      " [[9206  659]\n",
      " [3376  621]]\n",
      "              precision    recall  f1-score   support\n",
      "\n",
      "           0       0.73      0.93      0.82      9865\n",
      "           1       0.49      0.16      0.24      3997\n",
      "\n",
      "   micro avg       0.71      0.71      0.71     13862\n",
      "   macro avg       0.61      0.54      0.53     13862\n",
      "weighted avg       0.66      0.71      0.65     13862\n",
      "\n"
     ]
    }
   ],
   "source": [
    "best_XGB = XGBClassifier()\n",
    "best_XGB.fit(X_ada2, y_ada2)\n",
    "print(\"The score for XGBoost is\")\n",
    "print(\"Training: {:6.2f}%\".format(100*clf.score(X_ada2, y_ada2)))\n",
    "print(\"Test set: {:6.2f}%\".format(100*clf.score(X_test2, y_test2)))\n",
    "\n",
    "print(\"XBGC matrix: \\n\\n\", confusion_matrix(y_test2, clf.predict(X_test2)))\n",
    "\n",
    "print(classification_report(y_test2, clf.predict(X_test2)))"
   ]
  },
  {
   "cell_type": "code",
   "execution_count": 226,
   "metadata": {},
   "outputs": [
    {
     "name": "stdout",
     "output_type": "stream",
     "text": [
      "              precision    recall  f1-score   support\n",
      "\n",
      "           0       0.78      0.55      0.64      9865\n",
      "           1       0.36      0.62      0.45      3997\n",
      "\n",
      "   micro avg       0.57      0.57      0.57     13862\n",
      "   macro avg       0.57      0.58      0.55     13862\n",
      "weighted avg       0.66      0.57      0.59     13862\n",
      "\n"
     ]
    }
   ],
   "source": [
    "print(classification_report(y_test2, best_model.predict(X_test2)))"
   ]
  },
  {
   "cell_type": "code",
   "execution_count": 236,
   "metadata": {},
   "outputs": [
    {
     "data": {
      "text/plain": [
       "0.4238978655495711"
      ]
     },
     "execution_count": 236,
     "metadata": {},
     "output_type": "execute_result"
    }
   ],
   "source": [
    "threshold = .48\n",
    "y_predict3 = (best_XGB.predict_proba(X_test2)[:, 1] >= threshold)\n",
    "fbeta_score(y_test2, y_predict3, beta = .25)\n"
   ]
  },
  {
   "cell_type": "code",
   "execution_count": 241,
   "metadata": {},
   "outputs": [
    {
     "data": {
      "text/plain": [
       "0.3431469842319992"
      ]
     },
     "execution_count": 241,
     "metadata": {},
     "output_type": "execute_result"
    }
   ],
   "source": [
    "threshold = .45\n",
    "y_predict4 = (best_model.predict_proba(X_test2)[:, 1] >= threshold)\n",
    "fbeta_score(y_test2, y_predict4, beta = .25)\n"
   ]
  },
  {
   "cell_type": "code",
   "execution_count": 255,
   "metadata": {},
   "outputs": [
    {
     "name": "stdout",
     "output_type": "stream",
     "text": [
      "Best: 0.675371 using {'colsample_bytree': 1.0, 'max_depth': 6, 'n_estimators': 100, 'subsample': 0.9}\n",
      "0.673870 (0.002918) with: {'colsample_bytree': 0.9, 'max_depth': 6, 'n_estimators': 100, 'subsample': 0.9}\n",
      "0.673763 (0.001126) with: {'colsample_bytree': 0.9, 'max_depth': 6, 'n_estimators': 100, 'subsample': 1.0}\n",
      "0.671815 (0.002230) with: {'colsample_bytree': 0.9, 'max_depth': 6, 'n_estimators': 250, 'subsample': 0.9}\n",
      "0.671508 (0.001876) with: {'colsample_bytree': 0.9, 'max_depth': 6, 'n_estimators': 250, 'subsample': 1.0}\n",
      "0.665465 (0.002061) with: {'colsample_bytree': 0.9, 'max_depth': 6, 'n_estimators': 500, 'subsample': 0.9}\n",
      "0.664166 (0.002108) with: {'colsample_bytree': 0.9, 'max_depth': 6, 'n_estimators': 500, 'subsample': 1.0}\n",
      "0.666103 (0.001077) with: {'colsample_bytree': 0.9, 'max_depth': 9, 'n_estimators': 100, 'subsample': 0.9}\n",
      "0.665683 (0.001958) with: {'colsample_bytree': 0.9, 'max_depth': 9, 'n_estimators': 100, 'subsample': 1.0}\n",
      "0.658654 (0.000849) with: {'colsample_bytree': 0.9, 'max_depth': 9, 'n_estimators': 250, 'subsample': 0.9}\n",
      "0.659339 (0.000914) with: {'colsample_bytree': 0.9, 'max_depth': 9, 'n_estimators': 250, 'subsample': 1.0}\n",
      "0.653669 (0.000813) with: {'colsample_bytree': 0.9, 'max_depth': 9, 'n_estimators': 500, 'subsample': 0.9}\n",
      "0.653877 (0.001274) with: {'colsample_bytree': 0.9, 'max_depth': 9, 'n_estimators': 500, 'subsample': 1.0}\n",
      "0.657929 (0.002827) with: {'colsample_bytree': 0.9, 'max_depth': 12, 'n_estimators': 100, 'subsample': 0.9}\n",
      "0.657389 (0.001918) with: {'colsample_bytree': 0.9, 'max_depth': 12, 'n_estimators': 100, 'subsample': 1.0}\n",
      "0.654443 (0.002775) with: {'colsample_bytree': 0.9, 'max_depth': 12, 'n_estimators': 250, 'subsample': 0.9}\n",
      "0.653859 (0.003181) with: {'colsample_bytree': 0.9, 'max_depth': 12, 'n_estimators': 250, 'subsample': 1.0}\n",
      "0.652997 (0.002743) with: {'colsample_bytree': 0.9, 'max_depth': 12, 'n_estimators': 500, 'subsample': 0.9}\n",
      "0.653030 (0.002489) with: {'colsample_bytree': 0.9, 'max_depth': 12, 'n_estimators': 500, 'subsample': 1.0}\n",
      "0.675371 (0.001567) with: {'colsample_bytree': 1.0, 'max_depth': 6, 'n_estimators': 100, 'subsample': 0.9}\n",
      "0.674780 (0.002302) with: {'colsample_bytree': 1.0, 'max_depth': 6, 'n_estimators': 100, 'subsample': 1.0}\n",
      "0.671851 (0.003259) with: {'colsample_bytree': 1.0, 'max_depth': 6, 'n_estimators': 250, 'subsample': 0.9}\n",
      "0.672279 (0.002350) with: {'colsample_bytree': 1.0, 'max_depth': 6, 'n_estimators': 250, 'subsample': 1.0}\n",
      "0.663901 (0.002469) with: {'colsample_bytree': 1.0, 'max_depth': 6, 'n_estimators': 500, 'subsample': 0.9}\n",
      "0.665400 (0.002544) with: {'colsample_bytree': 1.0, 'max_depth': 6, 'n_estimators': 500, 'subsample': 1.0}\n",
      "0.666520 (0.002731) with: {'colsample_bytree': 1.0, 'max_depth': 9, 'n_estimators': 100, 'subsample': 0.9}\n",
      "0.666631 (0.000344) with: {'colsample_bytree': 1.0, 'max_depth': 9, 'n_estimators': 100, 'subsample': 1.0}\n",
      "0.659406 (0.002038) with: {'colsample_bytree': 1.0, 'max_depth': 9, 'n_estimators': 250, 'subsample': 0.9}\n",
      "0.660984 (0.001488) with: {'colsample_bytree': 1.0, 'max_depth': 9, 'n_estimators': 250, 'subsample': 1.0}\n",
      "0.654185 (0.001530) with: {'colsample_bytree': 1.0, 'max_depth': 9, 'n_estimators': 500, 'subsample': 0.9}\n",
      "0.655082 (0.001929) with: {'colsample_bytree': 1.0, 'max_depth': 9, 'n_estimators': 500, 'subsample': 1.0}\n",
      "0.657339 (0.003174) with: {'colsample_bytree': 1.0, 'max_depth': 12, 'n_estimators': 100, 'subsample': 0.9}\n",
      "0.657008 (0.000433) with: {'colsample_bytree': 1.0, 'max_depth': 12, 'n_estimators': 100, 'subsample': 1.0}\n",
      "0.654561 (0.001425) with: {'colsample_bytree': 1.0, 'max_depth': 12, 'n_estimators': 250, 'subsample': 0.9}\n",
      "0.654846 (0.000858) with: {'colsample_bytree': 1.0, 'max_depth': 12, 'n_estimators': 250, 'subsample': 1.0}\n",
      "0.653250 (0.001186) with: {'colsample_bytree': 1.0, 'max_depth': 12, 'n_estimators': 500, 'subsample': 0.9}\n",
      "0.653536 (0.001147) with: {'colsample_bytree': 1.0, 'max_depth': 12, 'n_estimators': 500, 'subsample': 1.0}\n"
     ]
    }
   ],
   "source": [
    "clf = XGBClassifier()\n",
    "parameters = {\n",
    "    'n_estimators': [100, 250, 500],\n",
    "    'max_depth': [6, 9, 12],\n",
    "    'subsample': [0.9, 1.0],\n",
    "    'colsample_bytree': [0.9, 1.0]}\n",
    "\n",
    "grid = GridSearchCV(clf,\n",
    "                    parameters, n_jobs=4,\n",
    "                    scoring=\"roc_auc\",\n",
    "                    cv=3)\n",
    "\n",
    "grid.fit(X_train2, y_train2)\n",
    "print(\"Best: %f using %s\" % (grid.best_score_, grid.best_params_))\n",
    "\n",
    "means = grid.cv_results_['mean_test_score']\n",
    "stds = grid.cv_results_['std_test_score']\n",
    "params = grid.cv_results_['params']\n",
    "\n",
    "for mean, stdev, param in zip(means, stds, params):\n",
    "    print(\"%f (%f) with: %r\" % (mean, stdev, param))"
   ]
  },
  {
   "cell_type": "code",
   "execution_count": 256,
   "metadata": {},
   "outputs": [
    {
     "name": "stdout",
     "output_type": "stream",
     "text": [
      "The score for tuned XGBoost is\n",
      "Training:  81.60%\n",
      "Test set:  71.79%\n",
      "XBGC matrix: \n",
      "\n",
      " [[9391  474]\n",
      " [3436  561]]\n",
      "              precision    recall  f1-score   support\n",
      "\n",
      "           0       0.73      0.95      0.83      9865\n",
      "           1       0.54      0.14      0.22      3997\n",
      "\n",
      "   micro avg       0.72      0.72      0.72     13862\n",
      "   macro avg       0.64      0.55      0.53     13862\n",
      "weighted avg       0.68      0.72      0.65     13862\n",
      "\n"
     ]
    }
   ],
   "source": [
    "final_model = XGBClassifier(max_depth = 6, n_estimators = 100, subsample = 0.9)\n",
    "final_model.fit(X_ada2, y_ada2)\n",
    "\n",
    "print(\"The score for tuned XGBoost is\")\n",
    "print(\"Training: {:6.2f}%\".format(100*final_model.score(X_ada2, y_ada2)))\n",
    "print(\"Test set: {:6.2f}%\".format(100*final_model.score(X_test2, y_test2)))\n",
    "\n",
    "print(\"XBGC matrix: \\n\\n\", confusion_matrix(y_test2, final_model.predict(X_test2)))\n",
    "\n",
    "print(classification_report(y_test2, final_model.predict(X_test2)))"
   ]
  },
  {
   "cell_type": "code",
   "execution_count": 257,
   "metadata": {},
   "outputs": [
    {
     "data": {
      "text/plain": [
       "0.46392956170647465"
      ]
     },
     "execution_count": 257,
     "metadata": {},
     "output_type": "execute_result"
    }
   ],
   "source": [
    "threshold = .5\n",
    "y_predict3 = (final_model.predict_proba(X_test2)[:, 1] >= threshold)\n",
    "fbeta_score(y_test2, y_predict3, beta = .25)"
   ]
  },
  {
   "cell_type": "code",
   "execution_count": 259,
   "metadata": {},
   "outputs": [
    {
     "data": {
      "text/plain": [
       "0.469367823676917"
      ]
     },
     "execution_count": 259,
     "metadata": {},
     "output_type": "execute_result"
    }
   ],
   "source": [
    "threshold = .45\n",
    "y_predict3 = (final_model.predict_proba(X_test2)[:, 1] >= threshold)\n",
    "fbeta_score(y_test2, y_predict3, beta = .25)"
   ]
  },
  {
   "cell_type": "code",
   "execution_count": 260,
   "metadata": {},
   "outputs": [
    {
     "data": {
      "text/plain": [
       "0.4568263277940697"
      ]
     },
     "execution_count": 260,
     "metadata": {},
     "output_type": "execute_result"
    }
   ],
   "source": [
    "threshold = .42\n",
    "y_predict3 = (final_model.predict_proba(X_test2)[:, 1] >= threshold)\n",
    "fbeta_score(y_test2, y_predict3, beta = .25)"
   ]
  },
  {
   "cell_type": "code",
   "execution_count": 261,
   "metadata": {},
   "outputs": [
    {
     "data": {
      "text/plain": [
       "0.4715897252730898"
      ]
     },
     "execution_count": 261,
     "metadata": {},
     "output_type": "execute_result"
    }
   ],
   "source": [
    "threshold = .46\n",
    "y_predict3 = (final_model.predict_proba(X_test2)[:, 1] >= threshold)\n",
    "fbeta_score(y_test2, y_predict3, beta = .25)"
   ]
  },
  {
   "cell_type": "code",
   "execution_count": 262,
   "metadata": {},
   "outputs": [
    {
     "data": {
      "text/plain": [
       "0.4704366739166806"
      ]
     },
     "execution_count": 262,
     "metadata": {},
     "output_type": "execute_result"
    }
   ],
   "source": [
    "threshold = .47\n",
    "y_predict3 = (final_model.predict_proba(X_test2)[:, 1] >= threshold)\n",
    "fbeta_score(y_test2, y_predict3, beta = .25)"
   ]
  },
  {
   "cell_type": "code",
   "execution_count": 263,
   "metadata": {},
   "outputs": [],
   "source": [
    "#best threshold is .46"
   ]
  },
  {
   "cell_type": "code",
   "execution_count": 264,
   "metadata": {},
   "outputs": [
    {
     "data": {
      "text/plain": [
       "0.4715897252730898"
      ]
     },
     "execution_count": 264,
     "metadata": {},
     "output_type": "execute_result"
    }
   ],
   "source": [
    "threshold = .46\n",
    "y_predict3 = (final_model.predict_proba(X_test2)[:, 1] >= threshold)\n",
    "fbeta_score(y_test2, y_predict3, beta = .25)"
   ]
  },
  {
   "cell_type": "code",
   "execution_count": 265,
   "metadata": {},
   "outputs": [
    {
     "data": {
      "text/plain": [
       "0.23317488116087065"
      ]
     },
     "execution_count": 265,
     "metadata": {},
     "output_type": "execute_result"
    }
   ],
   "source": [
    "recall_score(y_test2, y_predict3)"
   ]
  },
  {
   "cell_type": "code",
   "execution_count": 266,
   "metadata": {},
   "outputs": [
    {
     "data": {
      "image/png": "[encoded data removed]",
      "text/plain": [
       "<Figure size 640x440 with 1 Axes>"
      ]
     },
     "metadata": {},
     "output_type": "display_data"
    }
   ],
   "source": [
    "precision_curve2, recall_curve2, threshold_curve2 = precision_recall_curve(y_test2, final_model.predict_proba(X_test2)[:,1] )\n",
    "\n",
    "plt.figure(dpi=80)\n",
    "plt.plot(threshold_curve, precision_curve[1:],label='precision')\n",
    "plt.plot(threshold_curve, recall_curve[1:], label='recall')\n",
    "plt.legend(loc='lower left')\n",
    "plt.xlabel('Threshold (above this probability, label as churn)');\n",
    "plt.title('Precision and Recall Curves for XGBoost');"
   ]
  },
  {
   "cell_type": "code",
   "execution_count": 271,
   "metadata": {},
   "outputs": [
    {
     "data": {
      "image/png": "[encoded data removed]",
      "text/plain": [
       "<Figure size 640x440 with 2 Axes>"
      ]
     },
     "metadata": {},
     "output_type": "display_data"
    }
   ],
   "source": [
    "make_confusion_matrix(final_model, threshold = .9)"
   ]
  },
  {
   "cell_type": "code",
   "execution_count": 305,
   "metadata": {},
   "outputs": [],
   "source": [
    "def make_confusion_matrix(model, threshold=0.5):\n",
    "    # Predict class 1 if probability of being in class 1 is greater than threshold\n",
    "    # (model.predict(X_test) does this automatically with a threshold of 0.5)\n",
    "    y_predict = (model.predict_proba(X_test2)[:, 1] >= threshold)\n",
    "    fraud_confusion = confusion_matrix(y_test2, y_predict)\n",
    "    plt.figure(dpi=80)\n",
    "    sns.heatmap(fraud_confusion, cmap=plt.cm.Blues, annot=True, square=True, fmt='d',\n",
    "           xticklabels=['retain', 'churn'],\n",
    "           yticklabels=['retain', 'churn']);\n",
    "    plt.xlabel('prediction')\n",
    "    plt.ylabel('actual')\n",
    "    plt.title('Confusion Matrix for Churn Model')"
   ]
  },
  {
   "cell_type": "code",
   "execution_count": 306,
   "metadata": {},
   "outputs": [
    {
     "data": {
      "image/png": "[encoded data removed]",
      "text/plain": [
       "<Figure size 640x440 with 2 Axes>"
      ]
     },
     "metadata": {},
     "output_type": "display_data"
    }
   ],
   "source": [
    "make_confusion_matrix(best_model, threshold = 0.47)"
   ]
  },
  {
   "cell_type": "code",
   "execution_count": 279,
   "metadata": {},
   "outputs": [],
   "source": [
    "y_predict = final_model.predict(X_test2)"
   ]
  },
  {
   "cell_type": "code",
   "execution_count": 281,
   "metadata": {},
   "outputs": [
    {
     "data": {
      "text/plain": [
       "0.637078264485127"
      ]
     },
     "execution_count": 281,
     "metadata": {},
     "output_type": "execute_result"
    }
   ],
   "source": [
    "roc_auc_score(y_predict, y_test2)"
   ]
  },
  {
   "cell_type": "code",
   "execution_count": 282,
   "metadata": {},
   "outputs": [],
   "source": [
    "final_model.feature_names = X2.columns"
   ]
  },
  {
   "cell_type": "code",
   "execution_count": 283,
   "metadata": {},
   "outputs": [
    {
     "name": "stdout",
     "output_type": "stream",
     "text": [
      "/Users/maxwellstaley\n"
     ]
    }
   ],
   "source": [
    "cd ~"
   ]
  },
  {
   "cell_type": "code",
   "execution_count": 284,
   "metadata": {},
   "outputs": [
    {
     "name": "stdout",
     "output_type": "stream",
     "text": [
      "/Users/maxwellstaley/Documents\n"
     ]
    }
   ],
   "source": [
    "cd Documents"
   ]
  },
  {
   "cell_type": "code",
   "execution_count": 285,
   "metadata": {},
   "outputs": [
    {
     "name": "stdout",
     "output_type": "stream",
     "text": [
      "/Users/maxwellstaley/Documents/model\n"
     ]
    }
   ],
   "source": [
    "cd model"
   ]
  },
  {
   "cell_type": "code",
   "execution_count": 289,
   "metadata": {},
   "outputs": [],
   "source": [
    "import pickle\n",
    "\n",
    "with open(\"model/XBG.pkl\", \"wb\") as f:\n",
    "    pickle.dump(final_model, f)"
   ]
  },
  {
   "cell_type": "code",
   "execution_count": 288,
   "metadata": {},
   "outputs": [
    {
     "name": "stdout",
     "output_type": "stream",
     "text": [
      "/Users/maxwellstaley/Documents\n"
     ]
    }
   ],
   "source": [
    "cd .."
   ]
  },
  {
   "cell_type": "code",
   "execution_count": 291,
   "metadata": {},
   "outputs": [
    {
     "data": {
      "text/plain": [
       "array([[ 2.52556976,  1.59201932,  0.71666867, ..., -0.18248911,\n",
       "         0.92289627,  0.51552618],\n",
       "       [ 0.22833994, -0.08090005, -0.29244566, ..., -0.18248911,\n",
       "         0.44296689, -0.03690018],\n",
       "       [-0.272778  , -0.90731972,  0.15604959, ..., -0.18248911,\n",
       "        -0.05370742, -0.03049334],\n",
       "       ...,\n",
       "       [-0.53881829, -0.08131831, -0.40456948, ..., -0.18248911,\n",
       "         0.06732792, -0.03690018],\n",
       "       [ 1.08934832,  1.59201932, -0.18032184, ..., -0.18248911,\n",
       "         1.24390065,  0.33038162],\n",
       "       [-0.3074199 , -0.70840172, -0.29244566, ..., -0.18248911,\n",
       "        -0.12804951, -0.03690018]])"
      ]
     },
     "execution_count": 291,
     "metadata": {},
     "output_type": "execute_result"
    }
   ],
   "source": [
    "X_test2"
   ]
  },
  {
   "cell_type": "code",
   "execution_count": 296,
   "metadata": {},
   "outputs": [
    {
     "data": {
      "text/plain": [
       "numpy.ndarray"
      ]
     },
     "execution_count": 296,
     "metadata": {},
     "output_type": "execute_result"
    }
   ],
   "source": [
    "type(X_test2)"
   ]
  },
  {
   "cell_type": "code",
   "execution_count": 298,
   "metadata": {},
   "outputs": [],
   "source": [
    "test_df = pd.DataFrame(X_test2)"
   ]
  },
  {
   "cell_type": "code",
   "execution_count": 300,
   "metadata": {},
   "outputs": [
    {
     "data": {
      "text/html": [
       "<div>\n",
       "<style scoped>\n",
       "    .dataframe tbody tr th:only-of-type {\n",
       "        vertical-align: middle;\n",
       "    }\n",
       "\n",
       "    .dataframe tbody tr th {\n",
       "        vertical-align: top;\n",
       "    }\n",
       "\n",
       "    .dataframe thead th {\n",
       "        text-align: right;\n",
       "    }\n",
       "</style>\n",
       "<table border=\"1\" class=\"dataframe\">\n",
       "  <thead>\n",
       "    <tr style=\"text-align: right;\">\n",
       "      <th></th>\n",
       "      <th>0</th>\n",
       "      <th>1</th>\n",
       "      <th>2</th>\n",
       "      <th>3</th>\n",
       "      <th>4</th>\n",
       "      <th>5</th>\n",
       "      <th>6</th>\n",
       "      <th>7</th>\n",
       "      <th>8</th>\n",
       "      <th>9</th>\n",
       "      <th>...</th>\n",
       "      <th>56</th>\n",
       "      <th>57</th>\n",
       "      <th>58</th>\n",
       "      <th>59</th>\n",
       "      <th>60</th>\n",
       "      <th>61</th>\n",
       "      <th>62</th>\n",
       "      <th>63</th>\n",
       "      <th>64</th>\n",
       "      <th>65</th>\n",
       "    </tr>\n",
       "  </thead>\n",
       "  <tbody>\n",
       "    <tr>\n",
       "      <th>0</th>\n",
       "      <td>2.525570</td>\n",
       "      <td>1.592019</td>\n",
       "      <td>0.716669</td>\n",
       "      <td>1.125498</td>\n",
       "      <td>3.824710</td>\n",
       "      <td>-2.992223</td>\n",
       "      <td>-2.137461</td>\n",
       "      <td>3.436171</td>\n",
       "      <td>1.698850</td>\n",
       "      <td>3.131724</td>\n",
       "      <td>...</td>\n",
       "      <td>-0.401005</td>\n",
       "      <td>-0.195015</td>\n",
       "      <td>-0.555636</td>\n",
       "      <td>-0.132534</td>\n",
       "      <td>-0.120147</td>\n",
       "      <td>-1.140987</td>\n",
       "      <td>1.650357</td>\n",
       "      <td>-0.182489</td>\n",
       "      <td>0.922896</td>\n",
       "      <td>0.515526</td>\n",
       "    </tr>\n",
       "    <tr>\n",
       "      <th>1</th>\n",
       "      <td>0.228340</td>\n",
       "      <td>-0.080900</td>\n",
       "      <td>-0.292446</td>\n",
       "      <td>0.565698</td>\n",
       "      <td>-0.129437</td>\n",
       "      <td>2.659046</td>\n",
       "      <td>1.877336</td>\n",
       "      <td>0.293644</td>\n",
       "      <td>-0.162281</td>\n",
       "      <td>-0.551754</td>\n",
       "      <td>...</td>\n",
       "      <td>-0.401005</td>\n",
       "      <td>-0.195015</td>\n",
       "      <td>-0.555636</td>\n",
       "      <td>1.476181</td>\n",
       "      <td>-0.120147</td>\n",
       "      <td>0.876434</td>\n",
       "      <td>-0.628427</td>\n",
       "      <td>-0.182489</td>\n",
       "      <td>0.442967</td>\n",
       "      <td>-0.036900</td>\n",
       "    </tr>\n",
       "    <tr>\n",
       "      <th>2</th>\n",
       "      <td>-0.272778</td>\n",
       "      <td>-0.907320</td>\n",
       "      <td>0.156050</td>\n",
       "      <td>0.013673</td>\n",
       "      <td>-0.000645</td>\n",
       "      <td>2.331337</td>\n",
       "      <td>0.744620</td>\n",
       "      <td>-0.630628</td>\n",
       "      <td>-0.224318</td>\n",
       "      <td>0.016259</td>\n",
       "      <td>...</td>\n",
       "      <td>-0.401005</td>\n",
       "      <td>3.635305</td>\n",
       "      <td>1.799741</td>\n",
       "      <td>-1.419506</td>\n",
       "      <td>-0.120147</td>\n",
       "      <td>0.876434</td>\n",
       "      <td>-0.628427</td>\n",
       "      <td>-0.182489</td>\n",
       "      <td>-0.053707</td>\n",
       "      <td>-0.030493</td>\n",
       "    </tr>\n",
       "    <tr>\n",
       "      <th>3</th>\n",
       "      <td>-0.053776</td>\n",
       "      <td>0.127849</td>\n",
       "      <td>0.828793</td>\n",
       "      <td>-0.413952</td>\n",
       "      <td>-0.129437</td>\n",
       "      <td>-0.153382</td>\n",
       "      <td>0.077383</td>\n",
       "      <td>-0.297890</td>\n",
       "      <td>-0.348394</td>\n",
       "      <td>-0.568966</td>\n",
       "      <td>...</td>\n",
       "      <td>-0.401005</td>\n",
       "      <td>-0.195015</td>\n",
       "      <td>-0.555636</td>\n",
       "      <td>1.476181</td>\n",
       "      <td>-0.120147</td>\n",
       "      <td>0.876434</td>\n",
       "      <td>-0.628427</td>\n",
       "      <td>-0.182489</td>\n",
       "      <td>0.084561</td>\n",
       "      <td>-0.036900</td>\n",
       "    </tr>\n",
       "    <tr>\n",
       "      <th>4</th>\n",
       "      <td>-0.372798</td>\n",
       "      <td>-0.708820</td>\n",
       "      <td>-0.404569</td>\n",
       "      <td>-0.056302</td>\n",
       "      <td>-0.101972</td>\n",
       "      <td>0.435516</td>\n",
       "      <td>0.788214</td>\n",
       "      <td>-0.630628</td>\n",
       "      <td>0.147908</td>\n",
       "      <td>-0.371023</td>\n",
       "      <td>...</td>\n",
       "      <td>-0.401005</td>\n",
       "      <td>-0.195015</td>\n",
       "      <td>-0.555636</td>\n",
       "      <td>0.832695</td>\n",
       "      <td>-0.120147</td>\n",
       "      <td>0.876434</td>\n",
       "      <td>-0.628427</td>\n",
       "      <td>-0.182489</td>\n",
       "      <td>-0.148551</td>\n",
       "      <td>-0.036900</td>\n",
       "    </tr>\n",
       "  </tbody>\n",
       "</table>\n",
       "<p>5 rows × 66 columns</p>\n",
       "</div>"
      ],
      "text/plain": [
       "         0         1         2         3         4         5         6   \\\n",
       "0  2.525570  1.592019  0.716669  1.125498  3.824710 -2.992223 -2.137461   \n",
       "1  0.228340 -0.080900 -0.292446  0.565698 -0.129437  2.659046  1.877336   \n",
       "2 -0.272778 -0.907320  0.156050  0.013673 -0.000645  2.331337  0.744620   \n",
       "3 -0.053776  0.127849  0.828793 -0.413952 -0.129437 -0.153382  0.077383   \n",
       "4 -0.372798 -0.708820 -0.404569 -0.056302 -0.101972  0.435516  0.788214   \n",
       "\n",
       "         7         8         9   ...        56        57        58        59  \\\n",
       "0  3.436171  1.698850  3.131724  ... -0.401005 -0.195015 -0.555636 -0.132534   \n",
       "1  0.293644 -0.162281 -0.551754  ... -0.401005 -0.195015 -0.555636  1.476181   \n",
       "2 -0.630628 -0.224318  0.016259  ... -0.401005  3.635305  1.799741 -1.419506   \n",
       "3 -0.297890 -0.348394 -0.568966  ... -0.401005 -0.195015 -0.555636  1.476181   \n",
       "4 -0.630628  0.147908 -0.371023  ... -0.401005 -0.195015 -0.555636  0.832695   \n",
       "\n",
       "         60        61        62        63        64        65  \n",
       "0 -0.120147 -1.140987  1.650357 -0.182489  0.922896  0.515526  \n",
       "1 -0.120147  0.876434 -0.628427 -0.182489  0.442967 -0.036900  \n",
       "2 -0.120147  0.876434 -0.628427 -0.182489 -0.053707 -0.030493  \n",
       "3 -0.120147  0.876434 -0.628427 -0.182489  0.084561 -0.036900  \n",
       "4 -0.120147  0.876434 -0.628427 -0.182489 -0.148551 -0.036900  \n",
       "\n",
       "[5 rows x 66 columns]"
      ]
     },
     "execution_count": 300,
     "metadata": {},
     "output_type": "execute_result"
    }
   ],
   "source": [
    "test_df.head()"
   ]
  },
  {
   "cell_type": "code",
   "execution_count": 301,
   "metadata": {},
   "outputs": [
    {
     "data": {
      "text/plain": [
       "0     2.525570\n",
       "1     1.592019\n",
       "2     0.716669\n",
       "3     1.125498\n",
       "4     3.824710\n",
       "5    -2.992223\n",
       "6    -2.137461\n",
       "7     3.436171\n",
       "8     1.698850\n",
       "9     3.131724\n",
       "10    0.026807\n",
       "11    0.287913\n",
       "12   -0.620993\n",
       "13   -0.472487\n",
       "14    2.722054\n",
       "15    0.942160\n",
       "16    3.178572\n",
       "17   -0.019772\n",
       "18    0.328571\n",
       "19    0.131294\n",
       "20   -0.612235\n",
       "21   -0.559897\n",
       "22    0.138781\n",
       "23   -0.617274\n",
       "24   -0.481416\n",
       "25    0.390238\n",
       "26    0.784950\n",
       "27   -0.573053\n",
       "28   -0.342356\n",
       "29    2.609279\n",
       "        ...   \n",
       "36   -0.301633\n",
       "37   -0.465528\n",
       "38   -0.144561\n",
       "39   -0.175404\n",
       "40   -0.088199\n",
       "41   -0.056107\n",
       "42   -0.122291\n",
       "43   -0.134484\n",
       "44   -0.685965\n",
       "45   -0.772047\n",
       "46    1.299411\n",
       "47    1.305098\n",
       "48    1.261917\n",
       "49   -0.122215\n",
       "50   -0.248097\n",
       "51   -0.483387\n",
       "52    0.672610\n",
       "53   -0.175352\n",
       "54   -0.127238\n",
       "55   -0.491803\n",
       "56   -0.401005\n",
       "57   -0.195015\n",
       "58   -0.555636\n",
       "59   -0.132534\n",
       "60   -0.120147\n",
       "61   -1.140987\n",
       "62    1.650357\n",
       "63   -0.182489\n",
       "64    0.922896\n",
       "65    0.515526\n",
       "Name: 0, Length: 66, dtype: float64"
      ]
     },
     "execution_count": 301,
     "metadata": {},
     "output_type": "execute_result"
    }
   ],
   "source": [
    "test_df.iloc[0]"
   ]
  },
  {
   "cell_type": "code",
   "execution_count": 304,
   "metadata": {},
   "outputs": [
    {
     "data": {
      "text/plain": [
       "30   -0.225232\n",
       "31   -0.690945\n",
       "32    2.370101\n",
       "33   -0.402549\n",
       "34    0.324556\n",
       "35    2.044393\n",
       "Name: 0, dtype: float64"
      ]
     },
     "execution_count": 304,
     "metadata": {},
     "output_type": "execute_result"
    }
   ],
   "source": [
    "test_df.iloc[0][30:36]"
   ]
  },
  {
   "cell_type": "code",
   "execution_count": 326,
   "metadata": {},
   "outputs": [
    {
     "data": {
      "image/png": "[encoded data removed]",
      "text/plain": [
       "<Figure size 576x396 with 1 Axes>"
      ]
     },
     "metadata": {},
     "output_type": "display_data"
    }
   ],
   "source": [
    "sns.set_style(\"whitegrid\", {'axes.grid' : False})\n",
    "h = sns.distplot(df.mou, color = 'orange')\n",
    "h.set_yticklabels([])\n",
    "plt.xlabel(\"Mean Monthly Minutes\");"
   ]
  },
  {
   "cell_type": "code",
   "execution_count": 328,
   "metadata": {},
   "outputs": [
    {
     "data": {
      "image/png": "[encoded data removed]",
      "text/plain": [
       "<Figure size 576x396 with 1 Axes>"
      ]
     },
     "metadata": {},
     "output_type": "display_data"
    }
   ],
   "source": [
    "g = sns.distplot(df.log_mou, )\n",
    "g.set_yticklabels([])\n",
    "plt.xlabel(\"Log of Mean Monthly Minutes\");"
   ]
  },
  {
   "cell_type": "code",
   "execution_count": 332,
   "metadata": {},
   "outputs": [
    {
     "data": {
      "text/plain": [
       "(69309, 73)"
      ]
     },
     "execution_count": 332,
     "metadata": {},
     "output_type": "execute_result"
    }
   ],
   "source": [
    "df.shape"
   ]
  },
  {
   "cell_type": "code",
   "execution_count": 333,
   "metadata": {},
   "outputs": [
    {
     "data": {
      "text/plain": [
       "(13862, 66)"
      ]
     },
     "execution_count": 333,
     "metadata": {},
     "output_type": "execute_result"
    }
   ],
   "source": [
    "X_test2.shape"
   ]
  },
  {
   "cell_type": "code",
   "execution_count": null,
   "metadata": {},
   "outputs": [],
   "source": []
  }
 ],
 "metadata": {
  "kernelspec": {
   "display_name": "Python 3",
   "language": "python",
   "name": "python3"
  },
  "language_info": {
   "codemirror_mode": {
    "name": "ipython",
    "version": 3
   },
   "file_extension": ".py",
   "mimetype": "text/x-python",
   "name": "python",
   "nbconvert_exporter": "python",
   "pygments_lexer": "ipython3",
   "version": "3.7.3"
  }
 },
 "nbformat": 4,
 "nbformat_minor": 2
}
